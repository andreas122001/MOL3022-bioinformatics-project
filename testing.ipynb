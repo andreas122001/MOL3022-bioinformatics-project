{
 "cells": [
  {
   "cell_type": "code",
   "execution_count": 1,
   "metadata": {},
   "outputs": [
    {
     "data": {
      "text/plain": [
       "device(type='cuda')"
      ]
     },
     "execution_count": 1,
     "metadata": {},
     "output_type": "execute_result"
    }
   ],
   "source": [
    "from tqdm.notebook import tqdm\n",
    "import pandas as pd\n",
    "from datasets import Dataset\n",
    "from src.dataset import SPFastaDatasetBinaryWithTokenizedCategory\n",
    "import torch\n",
    "import numpy as np\n",
    "import matplotlib.pyplot as plt\n",
    "from transformers import AutoModelForSequenceClassification\n",
    "from os import path\n",
    "from datasets import ClassLabel\n",
    "\n",
    "\n",
    "device = torch.device(\"cuda\" if torch.cuda.is_available() else \"cpu\")\n",
    "device"
   ]
  },
  {
   "cell_type": "code",
   "execution_count": 2,
   "metadata": {},
   "outputs": [],
   "source": [
    "model_name = \"./model/checkpoint-final\"\n",
    "model = AutoModelForSequenceClassification.from_pretrained(model_name).to(device)\n",
    "tokenizer = AutoTokenizer.from_pretrained(model_name)"
   ]
  },
  {
   "cell_type": "code",
   "execution_count": 3,
   "metadata": {},
   "outputs": [
    {
     "name": "stderr",
     "output_type": "stream",
     "text": [
      "100%|██████████| 8811/8811 [00:00<00:00, 149324.46it/s]\n",
      "100%|██████████| 8811/8811 [00:00<00:00, 629327.73it/s]\n"
     ]
    },
    {
     "data": {
      "application/vnd.jupyter.widget-view+json": {
       "model_id": "58754c29b0874469b6bdbde1bafb5dfe",
       "version_major": 2,
       "version_minor": 0
      },
      "text/plain": [
       "Casting the dataset:   0%|          | 0/8811 [00:00<?, ? examples/s]"
      ]
     },
     "metadata": {},
     "output_type": "display_data"
    },
    {
     "data": {
      "application/vnd.jupyter.widget-view+json": {
       "model_id": "2478732d7d874b2a8a6fb49e9d6d2168",
       "version_major": 2,
       "version_minor": 0
      },
      "text/plain": [
       "Map:   0%|          | 0/8811 [00:00<?, ? examples/s]"
      ]
     },
     "metadata": {},
     "output_type": "display_data"
    },
    {
     "data": {
      "text/plain": [
       "Dataset({\n",
       "    features: ['text', 'labels', 'uniprot_ac', 'kingdom', 'type', 'input_ids', 'token_type_ids', 'attention_mask'],\n",
       "    num_rows: 8811\n",
       "})"
      ]
     },
     "execution_count": 3,
     "metadata": {},
     "output_type": "execute_result"
    }
   ],
   "source": [
    "ds_type = SPFastaDatasetBinaryWithTokenizedCategory\n",
    "def load_data(path: path) -> Dataset:\n",
    "    ds = ds_type(path)\n",
    "    return Dataset.from_pandas(ds.data).with_format(\"torch\", device=device)\n",
    "dataset_test = load_data(\"./data/test.fasta\")\n",
    "dataset_test = dataset_test.cast_column('labels', ClassLabel(num_classes = 2, names=[\"NO_SP\", \"SP\"]))\n",
    "dataset_test = dataset_test.map(lambda x: tokenizer(x['text'], return_tensors=\"pt\", padding='max_length', max_length=81, truncation=True), batched=True)\n",
    "dataset_test"
   ]
  },
  {
   "cell_type": "code",
   "execution_count": 4,
   "metadata": {},
   "outputs": [],
   "source": [
    "import evaluate\n",
    "\n",
    "def compute_metrics(eval_pred):\n",
    "    # acc = evaluate.load(\"accuracy\")\n",
    "    pre = evaluate.load(\"precision\")\n",
    "    rec = evaluate.load(\"recall\")\n",
    "    f1m = evaluate.load(\"f1\")\n",
    "\n",
    "    metrics = [pre, rec, f1m]\n",
    "\n",
    "    x, y = eval_pred\n",
    "    return {k: v for metric in [m.compute(predictions=x, references=y) for m in metrics] for k, v in metric.items()}"
   ]
  },
  {
   "cell_type": "code",
   "execution_count": 5,
   "metadata": {},
   "outputs": [
    {
     "data": {
      "application/vnd.jupyter.widget-view+json": {
       "model_id": "a8ef8df155924186814c9eb9de1dc016",
       "version_major": 2,
       "version_minor": 0
      },
      "text/plain": [
       "  0%|          | 0/1102 [00:00<?, ?it/s]"
      ]
     },
     "metadata": {},
     "output_type": "display_data"
    }
   ],
   "source": [
    "res = []\n",
    "for batch in tqdm(torch.utils.data.DataLoader(dataset_test, batch_size=8)):\n",
    "    pred = model(input_ids=batch['input_ids'], attention_mask=batch['attention_mask'], labels=batch['labels']).logits.argmax(-1)\n",
    "    for p, l, k in zip(pred, batch['labels'], batch['kingdom']):\n",
    "        res.append({\n",
    "            'eval_pred': (p.item(), l.item()),\n",
    "            'kingdom': k\n",
    "        })"
   ]
  },
  {
   "cell_type": "code",
   "execution_count": 6,
   "metadata": {},
   "outputs": [
    {
     "name": "stdout",
     "output_type": "stream",
     "text": [
      "[Total]:\n",
      "pred  label\n",
      "0     0        7562\n",
      "1     1        1213\n",
      "0     1          18\n",
      "1     0          18\n",
      "Name: count, dtype: int64\n",
      "{'precision': 0.9853777416734363, 'recall': 0.9853777416734363, 'f1': 0.9853777416734363}\n",
      "\n"
     ]
    }
   ],
   "source": [
    "df = pd.DataFrame([r['eval_pred'] for r in res], columns=['pred', 'label'])\n",
    "metrics = compute_metrics(torch.tensor(df.values.T))\n",
    "print(f\"[Total]:\\n{df.value_counts()}\\n{metrics}\\n\")"
   ]
  },
  {
   "cell_type": "code",
   "execution_count": 12,
   "metadata": {},
   "outputs": [
    {
     "name": "stdout",
     "output_type": "stream",
     "text": [
      "[EUKARYA]:\n",
      "pred  label\n",
      "0     0        7234\n",
      "1     1         201\n",
      "      0          13\n",
      "0     1           9\n",
      "Name: count, dtype: int64\n",
      "{'precision': 0.9392523364485982, 'recall': 0.9571428571428572, 'f1': 0.9481132075471698}\n",
      "\n",
      "[POSITIVE]:\n",
      "pred  label\n",
      "1     1        298\n",
      "0     0         88\n",
      "      1          2\n",
      "1     0          1\n",
      "Name: count, dtype: int64\n",
      "{'precision': 0.9966555183946488, 'recall': 0.9933333333333333, 'f1': 0.994991652754591}\n",
      "\n",
      "[NEGATIVE]:\n",
      "pred  label\n",
      "1     1        623\n",
      "0     0        150\n",
      "      1          7\n",
      "1     0          3\n",
      "Name: count, dtype: int64\n",
      "{'precision': 0.9952076677316294, 'recall': 0.9888888888888889, 'f1': 0.9920382165605095}\n",
      "\n",
      "[ARCHAEA]:\n",
      "pred  label\n",
      "1     1        91\n",
      "0     0        90\n",
      "1     0         1\n",
      "Name: count, dtype: int64\n",
      "{'precision': 0.9891304347826086, 'recall': 1.0, 'f1': 0.994535519125683}\n",
      "\n"
     ]
    }
   ],
   "source": [
    "kingdoms = list(set(dataset_test['kingdom']))\n",
    "metrics_dict = {}\n",
    "for kingdom in kingdoms:\n",
    "    df = pd.DataFrame([r['eval_pred'] for r in res if r['kingdom'] == kingdom], columns=['pred', 'label'])\n",
    "    metrics = compute_metrics(torch.tensor(df.values.T))\n",
    "    metrics_dict[kingdom] = metrics\n",
    "    print(f\"[{kingdom}]:\\n{df.value_counts()}\\n{metrics}\\n\")"
   ]
  },
  {
   "cell_type": "code",
   "execution_count": 14,
   "metadata": {},
   "outputs": [
    {
     "name": "stdout",
     "output_type": "stream",
     "text": [
      "precision: 5.631e-04\n",
      "recall: 2.714e-04\n",
      "f1: 3.936e-04\n"
     ]
    }
   ],
   "source": [
    "metric_types = ['precision', 'recall', 'f1']\n",
    "for t in metric_types:\n",
    "    std = np.var([m[t] for m in metrics_dict.values()])\n",
    "    print(f\"{t}: {std:.3e}\")"
   ]
  },
  {
   "cell_type": "code",
   "execution_count": 146,
   "metadata": {},
   "outputs": [
    {
     "data": {
      "text/plain": [
       "(0.8, 1.05)"
      ]
     },
     "execution_count": 146,
     "metadata": {},
     "output_type": "execute_result"
    },
    {
     "data": {
      "image/png": "[encoded data removed]",
      "text/plain": [
       "<Figure size 640x480 with 1 Axes>"
      ]
     },
     "metadata": {},
     "output_type": "display_data"
    }
   ],
   "source": [
    "x = np.arange(3)\n",
    "width = 0.23\n",
    "multiplier = -0.5\n",
    "fig, ax = plt.subplots()\n",
    "for attribute, measurement in metrics_dict.items():\n",
    "    offset = width * multiplier\n",
    "    rects = ax.bar(x + offset, measurement.values(), width, label=attribute)\n",
    "    [rects.patches[i].set_height(np.round(rects.patches[i].get_height(), 3)) for i in range(len(rects.patches))]\n",
    "    ax.bar_label(rects, padding=3)\n",
    "    multiplier += 1\n",
    "ax.set_ylabel('Metric score')\n",
    "ax.set_title('Metrics per kingdom grouped by metric type')\n",
    "ax.set_xticks(x + width, metric_types)\n",
    "\n",
    "ax.legend(loc='upper left', ncols=3)\n",
    "plt.tight_layout()\n",
    "\n",
    "ax.set_ylim(0.8, 1.05)"
   ]
  },
  {
   "cell_type": "code",
   "execution_count": null,
   "metadata": {},
   "outputs": [
    {
     "data": {
      "text/plain": [
       "pred  label\n",
       "1     1        91\n",
       "0     0        90\n",
       "1     0         1\n",
       "Name: count, dtype: int64"
      ]
     },
     "execution_count": 78,
     "metadata": {},
     "output_type": "execute_result"
    }
   ],
   "source": [
    "pd.DataFrame([r['eval_pred'] for r in res if r['kingdom'] == 'ARCHAEA'], columns=['pred', 'label']).value_counts()\n"
   ]
  }
 ],
 "metadata": {
  "kernelspec": {
   "display_name": "Python 3",
   "language": "python",
   "name": "python3"
  },
  "language_info": {
   "codemirror_mode": {
    "name": "ipython",
    "version": 3
   },
   "file_extension": ".py",
   "mimetype": "text/x-python",
   "name": "python",
   "nbconvert_exporter": "python",
   "pygments_lexer": "ipython3",
   "version": "3.10.11"
  }
 },
 "nbformat": 4,
 "nbformat_minor": 2
}
