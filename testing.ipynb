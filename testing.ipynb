{
 "cells": [
  {
   "cell_type": "code",
   "execution_count": 11,
   "metadata": {},
   "outputs": [
    {
     "data": {
      "text/plain": [
       "device(type='cuda')"
      ]
     },
     "execution_count": 11,
     "metadata": {},
     "output_type": "execute_result"
    }
   ],
   "source": [
    "from tqdm.notebook import tqdm\n",
    "import pandas as pd\n",
    "from datasets import Dataset\n",
    "from src.dataset import SPFastaDatasetBinary, SPFastaDatasetBinaryWithTokenizedCategory\n",
    "import torch\n",
    "from torch import nn\n",
    "import torch.nn.functional as F\n",
    "from transformers import AutoTokenizer, AdamW\n",
    "from torch.utils.data import DataLoader\n",
    "import numpy as np\n",
    "import os\n",
    "import matplotlib.pyplot as plt\n",
    "from transformers import AutoModelForSequenceClassification\n",
    "from os import path\n",
    "from datasets import ClassLabel\n",
    "\n",
    "\n",
    "device = torch.device(\"cuda\" if torch.cuda.is_available() else \"cpu\")\n",
    "device"
   ]
  },
  {
   "cell_type": "code",
   "execution_count": 12,
   "metadata": {},
   "outputs": [],
   "source": [
    "model_name = \"./model/checkpoint-final\"\n",
    "model = AutoModelForSequenceClassification.from_pretrained(model_name).to(device)\n",
    "tokenizer = AutoTokenizer.from_pretrained(model_name)"
   ]
  },
  {
   "cell_type": "code",
   "execution_count": 34,
   "metadata": {},
   "outputs": [
    {
     "name": "stderr",
     "output_type": "stream",
     "text": [
      "  0%|          | 0/8811 [00:00<?, ?it/s]"
     ]
    },
    {
     "name": "stderr",
     "output_type": "stream",
     "text": [
      "100%|██████████| 8811/8811 [00:00<00:00, 275412.96it/s]\n",
      "100%|██████████| 8811/8811 [00:00<00:00, 1101816.06it/s]\n"
     ]
    },
    {
     "data": {
      "application/vnd.jupyter.widget-view+json": {
       "model_id": "7cc67a47a0cb4658b14e5cf245dcc600",
       "version_major": 2,
       "version_minor": 0
      },
      "text/plain": [
       "Casting the dataset:   0%|          | 0/8811 [00:00<?, ? examples/s]"
      ]
     },
     "metadata": {},
     "output_type": "display_data"
    },
    {
     "data": {
      "application/vnd.jupyter.widget-view+json": {
       "model_id": "83a5553140e54375a913b1c526cf07a0",
       "version_major": 2,
       "version_minor": 0
      },
      "text/plain": [
       "Map:   0%|          | 0/8811 [00:00<?, ? examples/s]"
      ]
     },
     "metadata": {},
     "output_type": "display_data"
    },
    {
     "data": {
      "text/plain": [
       "Dataset({\n",
       "    features: ['text', 'labels', 'uniprot_ac', 'kingdom', 'type', 'input_ids', 'token_type_ids', 'attention_mask'],\n",
       "    num_rows: 8811\n",
       "})"
      ]
     },
     "execution_count": 34,
     "metadata": {},
     "output_type": "execute_result"
    }
   ],
   "source": [
    "ds_type = SPFastaDatasetBinaryWithTokenizedCategory\n",
    "def load_data(path: path) -> Dataset:\n",
    "    ds = ds_type(path)\n",
    "    return Dataset.from_pandas(ds.data).with_format(\"torch\", device=device)\n",
    "dataset_test = load_data(\"./data/test.fasta\")\n",
    "dataset_test = dataset_test.cast_column('labels', ClassLabel(num_classes = 2, names=[\"NO_SP\", \"SP\"]))\n",
    "dataset_test = dataset_test.map(lambda x: tokenizer(x['text'], return_tensors=\"pt\", padding='max_length', max_length=81, truncation=True), batched=True)\n",
    "dataset_test"
   ]
  },
  {
   "cell_type": "code",
   "execution_count": 104,
   "metadata": {},
   "outputs": [],
   "source": [
    "import evaluate\n",
    "\n",
    "def compute_metrics(eval_pred):\n",
    "    acc = evaluate.load(\"accuracy\")\n",
    "    pre = evaluate.load(\"precision\")\n",
    "    rec = evaluate.load(\"recall\")\n",
    "    f1m = evaluate.load(\"f1\")\n",
    "\n",
    "    metrics = [acc, pre, rec, f1m]\n",
    "\n",
    "    x, y = eval_pred\n",
    "    return {k: v for metric in [m.compute(predictions=x, references=y) for m in metrics] for k, v in metric.items()}"
   ]
  },
  {
   "cell_type": "code",
   "execution_count": 58,
   "metadata": {},
   "outputs": [
    {
     "data": {
      "application/vnd.jupyter.widget-view+json": {
       "model_id": "6b85adc8f1e9434096faceecf40ea7d7",
       "version_major": 2,
       "version_minor": 0
      },
      "text/plain": [
       "  0%|          | 0/1102 [00:00<?, ?it/s]"
      ]
     },
     "metadata": {},
     "output_type": "display_data"
    }
   ],
   "source": [
    "res = []\n",
    "for batch in tqdm(torch.utils.data.DataLoader(dataset_test, batch_size=8)):\n",
    "    pred = model(input_ids=batch['input_ids'], attention_mask=batch['attention_mask'], labels=batch['labels']).logits.argmax(-1)\n",
    "    for p, l, k in zip(pred, batch['labels'], batch['kingdom']):\n",
    "        res.append({\n",
    "            'eval_pred': (p.item(), l.item()),\n",
    "            'kingdom': k\n",
    "        })"
   ]
  },
  {
   "cell_type": "code",
   "execution_count": 133,
   "metadata": {},
   "outputs": [
    {
     "name": "stdout",
     "output_type": "stream",
     "text": [
      "[Total]:\n",
      "pred  label\n",
      "0     0        7562\n",
      "1     1        1213\n",
      "0     1          18\n",
      "1     0          18\n",
      "Name: count, dtype: int64\n",
      "{'accuracy': 0.9959141981613892, 'precision': 0.9853777416734363, 'recall': 0.9853777416734363, 'f1': 0.9853777416734363}\n",
      "\n"
     ]
    }
   ],
   "source": [
    "df = pd.DataFrame([r['eval_pred'] for r in res], columns=['pred', 'label'])\n",
    "metrics = compute_metrics(torch.tensor(df.values.T))\n",
    "print(f\"[Total]:\\n{df.value_counts()}\\n{metrics}\\n\")"
   ]
  },
  {
   "cell_type": "code",
   "execution_count": 116,
   "metadata": {},
   "outputs": [
    {
     "name": "stdout",
     "output_type": "stream",
     "text": [
      "[ARCHAEA]:\n",
      "pred  label\n",
      "1     1        91\n",
      "0     0        90\n",
      "1     0         1\n",
      "Name: count, dtype: int64\n",
      "{'accuracy': 0.9945054945054945, 'precision': 0.9891304347826086, 'recall': 1.0, 'f1': 0.994535519125683}\n",
      "\n",
      "[EUKARYA]:\n",
      "pred  label\n",
      "0     0        7234\n",
      "1     1         201\n",
      "      0          13\n",
      "0     1           9\n",
      "Name: count, dtype: int64\n",
      "{'accuracy': 0.9970497519109561, 'precision': 0.9392523364485982, 'recall': 0.9571428571428572, 'f1': 0.9481132075471698}\n",
      "\n",
      "[NEGATIVE]:\n",
      "pred  label\n",
      "1     1        623\n",
      "0     0        150\n",
      "      1          7\n",
      "1     0          3\n",
      "Name: count, dtype: int64\n",
      "{'accuracy': 0.9872286079182631, 'precision': 0.9952076677316294, 'recall': 0.9888888888888889, 'f1': 0.9920382165605095}\n",
      "\n",
      "[POSITIVE]:\n",
      "pred  label\n",
      "1     1        298\n",
      "0     0         88\n",
      "      1          2\n",
      "1     0          1\n",
      "Name: count, dtype: int64\n",
      "{'accuracy': 0.9922879177377892, 'precision': 0.9966555183946488, 'recall': 0.9933333333333333, 'f1': 0.994991652754591}\n",
      "\n"
     ]
    }
   ],
   "source": [
    "kingdoms = list(set(dataset_test['kingdom']))\n",
    "metrics_list = []\n",
    "for kingdom in kingdoms:\n",
    "    df = pd.DataFrame([r['eval_pred'] for r in res if r['kingdom'] == kingdom], columns=['pred', 'label'])\n",
    "    metrics = compute_metrics(torch.tensor(df.values.T))\n",
    "    metrics_list.append(metrics)\n",
    "    print(f\"[{kingdom}]:\\n{df.value_counts()}\\n{metrics}\\n\")"
   ]
  },
  {
   "cell_type": "code",
   "execution_count": 142,
   "metadata": {},
   "outputs": [
    {
     "name": "stdout",
     "output_type": "stream",
     "text": [
      "accuracy: 1.307e-05\n",
      "precision: 5.631e-04\n",
      "recall: 2.714e-04\n",
      "f1: 3.936e-04\n"
     ]
    }
   ],
   "source": [
    "metric_types = ['accuracy', 'precision', 'recall', 'f1']\n",
    "for t in metric_types:\n",
    "    std = np.var([m[t] for m in metrics_list])\n",
    "    print(f\"{t}: {std:.3e}\")"
   ]
  },
  {
   "cell_type": "code",
   "execution_count": 78,
   "metadata": {},
   "outputs": [
    {
     "data": {
      "text/plain": [
       "pred  label\n",
       "1     1        91\n",
       "0     0        90\n",
       "1     0         1\n",
       "Name: count, dtype: int64"
      ]
     },
     "execution_count": 78,
     "metadata": {},
     "output_type": "execute_result"
    }
   ],
   "source": [
    "pd.DataFrame([r['eval_pred'] for r in res if r['kingdom'] == 'ARCHAEA'], columns=['pred', 'label']).value_counts()\n"
   ]
  },
  {
   "cell_type": "code",
   "execution_count": 77,
   "metadata": {},
   "outputs": [
    {
     "data": {
      "text/plain": [
       "[{'eval_pred': (0, 0), 'kingdom': 'ARCHAEA'},\n",
       " {'eval_pred': (0, 0), 'kingdom': 'ARCHAEA'},\n",
       " {'eval_pred': (0, 0), 'kingdom': 'ARCHAEA'},\n",
       " {'eval_pred': (0, 0), 'kingdom': 'ARCHAEA'},\n",
       " {'eval_pred': (0, 0), 'kingdom': 'ARCHAEA'},\n",
       " {'eval_pred': (0, 0), 'kingdom': 'ARCHAEA'},\n",
       " {'eval_pred': (0, 0), 'kingdom': 'ARCHAEA'},\n",
       " {'eval_pred': (0, 0), 'kingdom': 'ARCHAEA'},\n",
       " {'eval_pred': (0, 0), 'kingdom': 'ARCHAEA'},\n",
       " {'eval_pred': (0, 0), 'kingdom': 'ARCHAEA'},\n",
       " {'eval_pred': (0, 0), 'kingdom': 'ARCHAEA'},\n",
       " {'eval_pred': (0, 0), 'kingdom': 'ARCHAEA'},\n",
       " {'eval_pred': (0, 0), 'kingdom': 'ARCHAEA'},\n",
       " {'eval_pred': (0, 0), 'kingdom': 'ARCHAEA'},\n",
       " {'eval_pred': (0, 0), 'kingdom': 'ARCHAEA'},\n",
       " {'eval_pred': (0, 0), 'kingdom': 'ARCHAEA'},\n",
       " {'eval_pred': (0, 0), 'kingdom': 'ARCHAEA'},\n",
       " {'eval_pred': (0, 0), 'kingdom': 'ARCHAEA'},\n",
       " {'eval_pred': (0, 0), 'kingdom': 'ARCHAEA'},\n",
       " {'eval_pred': (0, 0), 'kingdom': 'ARCHAEA'},\n",
       " {'eval_pred': (0, 0), 'kingdom': 'ARCHAEA'},\n",
       " {'eval_pred': (0, 0), 'kingdom': 'ARCHAEA'},\n",
       " {'eval_pred': (0, 0), 'kingdom': 'ARCHAEA'},\n",
       " {'eval_pred': (0, 0), 'kingdom': 'ARCHAEA'},\n",
       " {'eval_pred': (0, 0), 'kingdom': 'ARCHAEA'},\n",
       " {'eval_pred': (0, 0), 'kingdom': 'ARCHAEA'},\n",
       " {'eval_pred': (0, 0), 'kingdom': 'ARCHAEA'},\n",
       " {'eval_pred': (0, 0), 'kingdom': 'ARCHAEA'},\n",
       " {'eval_pred': (1, 1), 'kingdom': 'ARCHAEA'},\n",
       " {'eval_pred': (1, 1), 'kingdom': 'ARCHAEA'},\n",
       " {'eval_pred': (1, 1), 'kingdom': 'ARCHAEA'},\n",
       " {'eval_pred': (1, 1), 'kingdom': 'ARCHAEA'},\n",
       " {'eval_pred': (1, 1), 'kingdom': 'ARCHAEA'},\n",
       " {'eval_pred': (1, 1), 'kingdom': 'ARCHAEA'},\n",
       " {'eval_pred': (1, 1), 'kingdom': 'ARCHAEA'},\n",
       " {'eval_pred': (1, 1), 'kingdom': 'ARCHAEA'},\n",
       " {'eval_pred': (1, 1), 'kingdom': 'ARCHAEA'},\n",
       " {'eval_pred': (1, 1), 'kingdom': 'ARCHAEA'},\n",
       " {'eval_pred': (1, 1), 'kingdom': 'ARCHAEA'},\n",
       " {'eval_pred': (1, 1), 'kingdom': 'ARCHAEA'},\n",
       " {'eval_pred': (1, 1), 'kingdom': 'ARCHAEA'},\n",
       " {'eval_pred': (1, 1), 'kingdom': 'ARCHAEA'},\n",
       " {'eval_pred': (1, 1), 'kingdom': 'ARCHAEA'},\n",
       " {'eval_pred': (1, 1), 'kingdom': 'ARCHAEA'},\n",
       " {'eval_pred': (1, 1), 'kingdom': 'ARCHAEA'},\n",
       " {'eval_pred': (1, 1), 'kingdom': 'ARCHAEA'},\n",
       " {'eval_pred': (1, 1), 'kingdom': 'ARCHAEA'},\n",
       " {'eval_pred': (1, 1), 'kingdom': 'ARCHAEA'},\n",
       " {'eval_pred': (1, 1), 'kingdom': 'ARCHAEA'},\n",
       " {'eval_pred': (1, 1), 'kingdom': 'ARCHAEA'},\n",
       " {'eval_pred': (1, 1), 'kingdom': 'ARCHAEA'},\n",
       " {'eval_pred': (1, 1), 'kingdom': 'ARCHAEA'},\n",
       " {'eval_pred': (1, 1), 'kingdom': 'ARCHAEA'},\n",
       " {'eval_pred': (1, 1), 'kingdom': 'ARCHAEA'},\n",
       " {'eval_pred': (1, 1), 'kingdom': 'ARCHAEA'},\n",
       " {'eval_pred': (1, 1), 'kingdom': 'ARCHAEA'},\n",
       " {'eval_pred': (1, 1), 'kingdom': 'ARCHAEA'},\n",
       " {'eval_pred': (1, 1), 'kingdom': 'ARCHAEA'},\n",
       " {'eval_pred': (1, 1), 'kingdom': 'ARCHAEA'},\n",
       " {'eval_pred': (1, 1), 'kingdom': 'ARCHAEA'},\n",
       " {'eval_pred': (1, 1), 'kingdom': 'ARCHAEA'},\n",
       " {'eval_pred': (1, 1), 'kingdom': 'ARCHAEA'},\n",
       " {'eval_pred': (1, 1), 'kingdom': 'ARCHAEA'},\n",
       " {'eval_pred': (1, 1), 'kingdom': 'ARCHAEA'},\n",
       " {'eval_pred': (1, 1), 'kingdom': 'ARCHAEA'},\n",
       " {'eval_pred': (1, 1), 'kingdom': 'ARCHAEA'},\n",
       " {'eval_pred': (1, 1), 'kingdom': 'ARCHAEA'},\n",
       " {'eval_pred': (1, 1), 'kingdom': 'ARCHAEA'},\n",
       " {'eval_pred': (1, 1), 'kingdom': 'ARCHAEA'},\n",
       " {'eval_pred': (1, 1), 'kingdom': 'ARCHAEA'},\n",
       " {'eval_pred': (1, 1), 'kingdom': 'ARCHAEA'},\n",
       " {'eval_pred': (1, 1), 'kingdom': 'ARCHAEA'},\n",
       " {'eval_pred': (1, 1), 'kingdom': 'ARCHAEA'},\n",
       " {'eval_pred': (1, 1), 'kingdom': 'ARCHAEA'},\n",
       " {'eval_pred': (1, 1), 'kingdom': 'ARCHAEA'},\n",
       " {'eval_pred': (1, 1), 'kingdom': 'ARCHAEA'},\n",
       " {'eval_pred': (1, 1), 'kingdom': 'ARCHAEA'},\n",
       " {'eval_pred': (1, 1), 'kingdom': 'ARCHAEA'},\n",
       " {'eval_pred': (1, 1), 'kingdom': 'ARCHAEA'},\n",
       " {'eval_pred': (1, 1), 'kingdom': 'ARCHAEA'},\n",
       " {'eval_pred': (1, 1), 'kingdom': 'ARCHAEA'},\n",
       " {'eval_pred': (1, 1), 'kingdom': 'ARCHAEA'},\n",
       " {'eval_pred': (1, 1), 'kingdom': 'ARCHAEA'},\n",
       " {'eval_pred': (1, 1), 'kingdom': 'ARCHAEA'},\n",
       " {'eval_pred': (1, 1), 'kingdom': 'ARCHAEA'},\n",
       " {'eval_pred': (1, 1), 'kingdom': 'ARCHAEA'},\n",
       " {'eval_pred': (1, 1), 'kingdom': 'ARCHAEA'},\n",
       " {'eval_pred': (1, 1), 'kingdom': 'ARCHAEA'},\n",
       " {'eval_pred': (1, 1), 'kingdom': 'ARCHAEA'},\n",
       " {'eval_pred': (1, 1), 'kingdom': 'ARCHAEA'},\n",
       " {'eval_pred': (1, 1), 'kingdom': 'ARCHAEA'},\n",
       " {'eval_pred': (1, 1), 'kingdom': 'ARCHAEA'},\n",
       " {'eval_pred': (1, 1), 'kingdom': 'ARCHAEA'},\n",
       " {'eval_pred': (1, 1), 'kingdom': 'ARCHAEA'},\n",
       " {'eval_pred': (1, 1), 'kingdom': 'ARCHAEA'},\n",
       " {'eval_pred': (1, 1), 'kingdom': 'ARCHAEA'},\n",
       " {'eval_pred': (1, 1), 'kingdom': 'ARCHAEA'},\n",
       " {'eval_pred': (1, 1), 'kingdom': 'ARCHAEA'},\n",
       " {'eval_pred': (1, 1), 'kingdom': 'ARCHAEA'},\n",
       " {'eval_pred': (1, 1), 'kingdom': 'ARCHAEA'},\n",
       " {'eval_pred': (1, 1), 'kingdom': 'ARCHAEA'},\n",
       " {'eval_pred': (1, 1), 'kingdom': 'ARCHAEA'},\n",
       " {'eval_pred': (1, 1), 'kingdom': 'ARCHAEA'},\n",
       " {'eval_pred': (1, 1), 'kingdom': 'ARCHAEA'},\n",
       " {'eval_pred': (1, 1), 'kingdom': 'ARCHAEA'},\n",
       " {'eval_pred': (1, 1), 'kingdom': 'ARCHAEA'},\n",
       " {'eval_pred': (1, 1), 'kingdom': 'ARCHAEA'},\n",
       " {'eval_pred': (1, 1), 'kingdom': 'ARCHAEA'},\n",
       " {'eval_pred': (1, 1), 'kingdom': 'ARCHAEA'},\n",
       " {'eval_pred': (1, 1), 'kingdom': 'ARCHAEA'},\n",
       " {'eval_pred': (1, 1), 'kingdom': 'ARCHAEA'},\n",
       " {'eval_pred': (1, 1), 'kingdom': 'ARCHAEA'},\n",
       " {'eval_pred': (1, 1), 'kingdom': 'ARCHAEA'},\n",
       " {'eval_pred': (1, 1), 'kingdom': 'ARCHAEA'},\n",
       " {'eval_pred': (1, 1), 'kingdom': 'ARCHAEA'},\n",
       " {'eval_pred': (1, 1), 'kingdom': 'ARCHAEA'},\n",
       " {'eval_pred': (1, 1), 'kingdom': 'ARCHAEA'},\n",
       " {'eval_pred': (1, 1), 'kingdom': 'ARCHAEA'},\n",
       " {'eval_pred': (1, 1), 'kingdom': 'ARCHAEA'},\n",
       " {'eval_pred': (0, 0), 'kingdom': 'ARCHAEA'},\n",
       " {'eval_pred': (0, 0), 'kingdom': 'ARCHAEA'},\n",
       " {'eval_pred': (1, 0), 'kingdom': 'ARCHAEA'},\n",
       " {'eval_pred': (0, 0), 'kingdom': 'ARCHAEA'},\n",
       " {'eval_pred': (0, 0), 'kingdom': 'ARCHAEA'},\n",
       " {'eval_pred': (0, 0), 'kingdom': 'ARCHAEA'},\n",
       " {'eval_pred': (0, 0), 'kingdom': 'ARCHAEA'},\n",
       " {'eval_pred': (0, 0), 'kingdom': 'ARCHAEA'},\n",
       " {'eval_pred': (0, 0), 'kingdom': 'ARCHAEA'},\n",
       " {'eval_pred': (0, 0), 'kingdom': 'ARCHAEA'},\n",
       " {'eval_pred': (0, 0), 'kingdom': 'ARCHAEA'},\n",
       " {'eval_pred': (0, 0), 'kingdom': 'ARCHAEA'},\n",
       " {'eval_pred': (0, 0), 'kingdom': 'ARCHAEA'},\n",
       " {'eval_pred': (0, 0), 'kingdom': 'ARCHAEA'},\n",
       " {'eval_pred': (0, 0), 'kingdom': 'ARCHAEA'},\n",
       " {'eval_pred': (0, 0), 'kingdom': 'ARCHAEA'},\n",
       " {'eval_pred': (0, 0), 'kingdom': 'ARCHAEA'},\n",
       " {'eval_pred': (0, 0), 'kingdom': 'ARCHAEA'},\n",
       " {'eval_pred': (0, 0), 'kingdom': 'ARCHAEA'},\n",
       " {'eval_pred': (0, 0), 'kingdom': 'ARCHAEA'},\n",
       " {'eval_pred': (0, 0), 'kingdom': 'ARCHAEA'},\n",
       " {'eval_pred': (0, 0), 'kingdom': 'ARCHAEA'},\n",
       " {'eval_pred': (0, 0), 'kingdom': 'ARCHAEA'},\n",
       " {'eval_pred': (0, 0), 'kingdom': 'ARCHAEA'},\n",
       " {'eval_pred': (0, 0), 'kingdom': 'ARCHAEA'},\n",
       " {'eval_pred': (0, 0), 'kingdom': 'ARCHAEA'},\n",
       " {'eval_pred': (0, 0), 'kingdom': 'ARCHAEA'},\n",
       " {'eval_pred': (0, 0), 'kingdom': 'ARCHAEA'},\n",
       " {'eval_pred': (0, 0), 'kingdom': 'ARCHAEA'},\n",
       " {'eval_pred': (0, 0), 'kingdom': 'ARCHAEA'},\n",
       " {'eval_pred': (0, 0), 'kingdom': 'ARCHAEA'},\n",
       " {'eval_pred': (0, 0), 'kingdom': 'ARCHAEA'},\n",
       " {'eval_pred': (0, 0), 'kingdom': 'ARCHAEA'},\n",
       " {'eval_pred': (0, 0), 'kingdom': 'ARCHAEA'},\n",
       " {'eval_pred': (0, 0), 'kingdom': 'ARCHAEA'},\n",
       " {'eval_pred': (0, 0), 'kingdom': 'ARCHAEA'},\n",
       " {'eval_pred': (0, 0), 'kingdom': 'ARCHAEA'},\n",
       " {'eval_pred': (0, 0), 'kingdom': 'ARCHAEA'},\n",
       " {'eval_pred': (0, 0), 'kingdom': 'ARCHAEA'},\n",
       " {'eval_pred': (0, 0), 'kingdom': 'ARCHAEA'},\n",
       " {'eval_pred': (0, 0), 'kingdom': 'ARCHAEA'},\n",
       " {'eval_pred': (0, 0), 'kingdom': 'ARCHAEA'},\n",
       " {'eval_pred': (0, 0), 'kingdom': 'ARCHAEA'},\n",
       " {'eval_pred': (0, 0), 'kingdom': 'ARCHAEA'},\n",
       " {'eval_pred': (0, 0), 'kingdom': 'ARCHAEA'},\n",
       " {'eval_pred': (0, 0), 'kingdom': 'ARCHAEA'},\n",
       " {'eval_pred': (0, 0), 'kingdom': 'ARCHAEA'},\n",
       " {'eval_pred': (0, 0), 'kingdom': 'ARCHAEA'},\n",
       " {'eval_pred': (0, 0), 'kingdom': 'ARCHAEA'},\n",
       " {'eval_pred': (0, 0), 'kingdom': 'ARCHAEA'},\n",
       " {'eval_pred': (0, 0), 'kingdom': 'ARCHAEA'},\n",
       " {'eval_pred': (0, 0), 'kingdom': 'ARCHAEA'},\n",
       " {'eval_pred': (0, 0), 'kingdom': 'ARCHAEA'},\n",
       " {'eval_pred': (0, 0), 'kingdom': 'ARCHAEA'},\n",
       " {'eval_pred': (0, 0), 'kingdom': 'ARCHAEA'},\n",
       " {'eval_pred': (0, 0), 'kingdom': 'ARCHAEA'},\n",
       " {'eval_pred': (0, 0), 'kingdom': 'ARCHAEA'},\n",
       " {'eval_pred': (0, 0), 'kingdom': 'ARCHAEA'},\n",
       " {'eval_pred': (0, 0), 'kingdom': 'ARCHAEA'},\n",
       " {'eval_pred': (0, 0), 'kingdom': 'ARCHAEA'},\n",
       " {'eval_pred': (0, 0), 'kingdom': 'ARCHAEA'},\n",
       " {'eval_pred': (0, 0), 'kingdom': 'ARCHAEA'},\n",
       " {'eval_pred': (0, 0), 'kingdom': 'ARCHAEA'}]"
      ]
     },
     "execution_count": 77,
     "metadata": {},
     "output_type": "execute_result"
    }
   ],
   "source": [
    "[r for r in res if r['kingdom'] == 'ARCHAEA']"
   ]
  }
 ],
 "metadata": {
  "kernelspec": {
   "display_name": "Python 3",
   "language": "python",
   "name": "python3"
  },
  "language_info": {
   "codemirror_mode": {
    "name": "ipython",
    "version": 3
   },
   "file_extension": ".py",
   "mimetype": "text/x-python",
   "name": "python",
   "nbconvert_exporter": "python",
   "pygments_lexer": "ipython3",
   "version": "3.10.11"
  }
 },
 "nbformat": 4,
 "nbformat_minor": 2
}
