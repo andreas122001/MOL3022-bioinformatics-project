{
 "cells": [
  {
   "cell_type": "code",
   "execution_count": 50,
   "metadata": {},
   "outputs": [
    {
     "data": {
      "text/plain": [
       "tensor([[0.4038, 0.2003, 0.3960]], grad_fn=<SoftmaxBackward0>)"
      ]
     },
     "execution_count": 50,
     "metadata": {},
     "output_type": "execute_result"
    }
   ],
   "source": [
    "import torch\n",
    "import torch.nn as nn\n",
    "from transformers import AutoModel, AutoTokenizer\n",
    "\n",
    "device = \"cuda\" if torch.cuda.is_available() else \"cpu\"\n",
    "\n",
    "class CustomSeq2SeqModel(nn.Module):\n",
    "    def __init__(self, num_categories, decoder_layers=3, device=device):\n",
    "        super().__init__()\n",
    "        self.model = AutoModel.from_pretrained(\n",
    "            \"microsoft/MiniLM-L12-H384-uncased\"\n",
    "        ).to(device)\n",
    "        self.num_categories = num_categories\n",
    "        self.device = device\n",
    "        self.decoder = nn.TransformerDecoder(\n",
    "            nn.TransformerDecoderLayer(\n",
    "                d_model=388, #num_categories+self.model.config.hidden_size,\n",
    "                nhead=1\n",
    "            ),\n",
    "            decoder_layers,\n",
    "        )\n",
    "        self.dense = nn.Sequential(\n",
    "            nn.Linear(388,3),\n",
    "            nn.Softmax(-1),\n",
    "        )\n",
    "\n",
    "    def forward(self, input_ids, category, target, attention_mask=None, token_type_ids=None):\n",
    "\n",
    "        # Extract last hidden state embeds from transformers encoder\n",
    "        input_encodings = self.model(input_ids=input_ids, attention_mask=attention_mask, token_type_ids=token_type_ids, output_hidden_states=True)\n",
    "        cls_embeds_inputs = input_encodings.hidden_states[-1][:, 0, :]\n",
    "\n",
    "        output_encodings = self.model(**target, output_hidden_states=True)\n",
    "        cls_embeds_outputs = output_encodings.hidden_states[-1][:, 0, :]\n",
    "        \n",
    "        # Concatinate with categorical data\n",
    "        concat_inputs = torch.cat((cls_embeds_inputs, category), dim=-1)\n",
    "        concat_outputs = torch.cat((cls_embeds_outputs, category), dim=-1)\n",
    "\n",
    "        # Generate with decoder\n",
    "        output = self.decoder(tgt=concat_outputs, memory=concat_inputs)\n",
    "        return self.dense(output)\n",
    "\n",
    "\n",
    "# Example usage\n",
    "model = CustomSeq2SeqModel(num_categories=4)\n",
    "# tokenizer = AutoTokenizer.from_pretrained(\"microsoft/MiniLM-L12-H384-uncased\")\n",
    "\n",
    "batch_size = 1\n",
    "category = torch.tensor([[0,0,1,0]])\n",
    "tokens_in  = {'input_ids': torch.tensor([[1,1]]), 'attention_mask': torch.tensor([[1,1]])}\n",
    "tokens_out = {'input_ids': torch.tensor([[0,0,0]]), 'attention_mask': torch.tensor([[0,1,1]])}\n",
    "output = model(**tokens_in, target=tokens_out, category=category)\n",
    "output"
   ]
  }
 ],
 "metadata": {
  "kernelspec": {
   "display_name": "Python 3",
   "language": "python",
   "name": "python3"
  },
  "language_info": {
   "codemirror_mode": {
    "name": "ipython",
    "version": 3
   },
   "file_extension": ".py",
   "mimetype": "text/x-python",
   "name": "python",
   "nbconvert_exporter": "python",
   "pygments_lexer": "ipython3",
   "version": "3.10.12"
  }
 },
 "nbformat": 4,
 "nbformat_minor": 2
}
