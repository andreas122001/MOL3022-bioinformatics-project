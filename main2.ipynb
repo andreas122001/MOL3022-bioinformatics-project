{
 "cells": [
  {
   "cell_type": "code",
   "execution_count": 135,
   "metadata": {},
   "outputs": [
    {
     "data": {
      "text/plain": [
       "device(type='cuda')"
      ]
     },
     "execution_count": 135,
     "metadata": {},
     "output_type": "execute_result"
    }
   ],
   "source": [
    "from tqdm.notebook import tqdm\n",
    "import pandas as pd\n",
    "from datasets import Dataset\n",
    "from src.dataset import SPFastaDatasetBinary, SPFastaDatasetBinaryWithTokenizedCategory\n",
    "import torch\n",
    "from torch import nn\n",
    "import torch.nn.functional as F\n",
    "from transformers import AutoTokenizer, AdamW\n",
    "from torch.utils.data import DataLoader\n",
    "import numpy as np\n",
    "import os\n",
    "import matplotlib.pyplot as plt\n",
    "from transformers import AutoModelForSequenceClassification\n",
    "from os import path\n",
    "\n",
    "\n",
    "device = torch.device(\"cuda\" if torch.cuda.is_available() else \"cpu\")\n",
    "device"
   ]
  },
  {
   "cell_type": "code",
   "execution_count": 136,
   "metadata": {},
   "outputs": [
    {
     "name": "stderr",
     "output_type": "stream",
     "text": []
    },
    {
     "name": "stderr",
     "output_type": "stream",
     "text": [
      "100%|██████████| 20290/20290 [00:00<00:00, 263519.88it/s]\n",
      "100%|██████████| 20290/20290 [00:00<00:00, 1014513.06it/s]\n",
      "100%|██████████| 8811/8811 [00:00<00:00, 326348.34it/s]\n",
      "100%|██████████| 8811/8811 [00:00<00:00, 980109.60it/s]\n"
     ]
    }
   ],
   "source": [
    "ds_type = SPFastaDatasetBinaryWithTokenizedCategory\n",
    "def load_data(path: path):\n",
    "    ds = ds_type(path)\n",
    "    return Dataset.from_pandas(ds.data).with_format(\"torch\", device=device)\n",
    "dataset_train = load_data(\"data/train.fasta\")\n",
    "dataset_val, dataset_test = load_data(\"./data/test.fasta\").train_test_split(0.8).values()"
   ]
  },
  {
   "cell_type": "code",
   "execution_count": 137,
   "metadata": {},
   "outputs": [],
   "source": [
    "# def load_data_with_size_uniform(path, size=1000):\n",
    "#     ds = SPFastaDatasetBinaryWithTokenizedCategory(path)\n",
    "#     neg_labels = ds.data.loc[ds.data['labels'] == 0][:size//2]\n",
    "#     pos_labels = ds.data.loc[ds.data['labels'] == 1][:size//2]\n",
    "#     combi = pd.concat((neg_labels, pos_labels))\n",
    "#     return Dataset.from_pandas(combi).with_format(\"torch\", device=device)\n",
    "\n",
    "# dataset_train = load_data_with_size_uniform(\"data/train.fasta\", 100)\n",
    "# dataset_test  = load_data_with_size_uniform(\"data/test.fasta\", 100)"
   ]
  },
  {
   "cell_type": "code",
   "execution_count": 138,
   "metadata": {},
   "outputs": [
    {
     "data": {
      "application/vnd.jupyter.widget-view+json": {
       "model_id": "3e2c9d66dba74cea8ea77705516c90e3",
       "version_major": 2,
       "version_minor": 0
      },
      "text/plain": [
       "Casting the dataset:   0%|          | 0/20290 [00:00<?, ? examples/s]"
      ]
     },
     "metadata": {},
     "output_type": "display_data"
    },
    {
     "data": {
      "application/vnd.jupyter.widget-view+json": {
       "model_id": "01ca929b69f44262841b4fd8c41cbe61",
       "version_major": 2,
       "version_minor": 0
      },
      "text/plain": [
       "Casting the dataset:   0%|          | 0/1762 [00:00<?, ? examples/s]"
      ]
     },
     "metadata": {},
     "output_type": "display_data"
    },
    {
     "data": {
      "application/vnd.jupyter.widget-view+json": {
       "model_id": "61448c29c41c472a901f696991bcbf62",
       "version_major": 2,
       "version_minor": 0
      },
      "text/plain": [
       "Casting the dataset:   0%|          | 0/7049 [00:00<?, ? examples/s]"
      ]
     },
     "metadata": {},
     "output_type": "display_data"
    },
    {
     "data": {
      "text/plain": [
       "tensor(0, device='cuda:0')"
      ]
     },
     "execution_count": 138,
     "metadata": {},
     "output_type": "execute_result"
    }
   ],
   "source": [
    "from datasets import ClassLabel\n",
    "dataset_train = dataset_train.cast_column('labels', ClassLabel(num_classes = 2, names=[\"NO_SP\", \"SP\"]))\n",
    "dataset_val = dataset_val.cast_column('labels', ClassLabel(num_classes = 2, names=[\"NO_SP\", \"SP\"]))\n",
    "dataset_test = dataset_test.cast_column('labels', ClassLabel(num_classes = 2, names=[\"NO_SP\", \"SP\"]))\n",
    "dataset_train[0]['labels']"
   ]
  },
  {
   "cell_type": "code",
   "execution_count": 139,
   "metadata": {},
   "outputs": [
    {
     "data": {
      "application/vnd.jupyter.widget-view+json": {
       "model_id": "be635699ff1e415ea41e920a4aa80ad5",
       "version_major": 2,
       "version_minor": 0
      },
      "text/plain": [
       "Map:   0%|          | 0/20290 [00:00<?, ? examples/s]"
      ]
     },
     "metadata": {},
     "output_type": "display_data"
    },
    {
     "data": {
      "application/vnd.jupyter.widget-view+json": {
       "model_id": "16190d37ff3e42de8f8117d61d821aaa",
       "version_major": 2,
       "version_minor": 0
      },
      "text/plain": [
       "Map:   0%|          | 0/1762 [00:00<?, ? examples/s]"
      ]
     },
     "metadata": {},
     "output_type": "display_data"
    },
    {
     "data": {
      "application/vnd.jupyter.widget-view+json": {
       "model_id": "a98d892e7ba4421b834aa1531685507c",
       "version_major": 2,
       "version_minor": 0
      },
      "text/plain": [
       "Map:   0%|          | 0/7049 [00:00<?, ? examples/s]"
      ]
     },
     "metadata": {},
     "output_type": "display_data"
    },
    {
     "data": {
      "text/plain": [
       "(Dataset({\n",
       "     features: ['text', 'labels', 'uniprot_ac', 'kingdom', 'type', 'input_ids', 'token_type_ids', 'attention_mask'],\n",
       "     num_rows: 20290\n",
       " }),\n",
       " Dataset({\n",
       "     features: ['text', 'labels', 'uniprot_ac', 'kingdom', 'type', 'input_ids', 'token_type_ids', 'attention_mask'],\n",
       "     num_rows: 1762\n",
       " }),\n",
       " Dataset({\n",
       "     features: ['text', 'labels', 'uniprot_ac', 'kingdom', 'type', 'input_ids', 'token_type_ids', 'attention_mask'],\n",
       "     num_rows: 7049\n",
       " }))"
      ]
     },
     "execution_count": 139,
     "metadata": {},
     "output_type": "execute_result"
    }
   ],
   "source": [
    "# Tokenize:\n",
    "tokenizer = AutoTokenizer.from_pretrained(\"Rostlab/prot_bert\", device=\"cpu\")\n",
    "dataset_train = dataset_train.map(lambda x: tokenizer(x['text'], return_tensors=\"pt\", padding='max_length', max_length=81, truncation=True), batched=True)\n",
    "dataset_val = dataset_val.map(lambda x: tokenizer(x['text'], return_tensors=\"pt\", padding='max_length', max_length=81, truncation=True), batched=True)\n",
    "dataset_test = dataset_test.map(lambda x: tokenizer(x['text'], return_tensors=\"pt\", padding='max_length', max_length=81, truncation=True), batched=True)\n",
    "dataset_train, dataset_val, dataset_test"
   ]
  },
  {
   "cell_type": "code",
   "execution_count": 140,
   "metadata": {},
   "outputs": [],
   "source": [
    "import evaluate\n",
    "acc = evaluate.load(\"accuracy\")\n",
    "pre = evaluate.load(\"precision\")\n",
    "rec = evaluate.load(\"recall\")\n",
    "f1m = evaluate.load(\"f1\")\n",
    "\n",
    "metrics = [acc, pre, rec, f1m]\n",
    "\n",
    "def compute_metrics(eval_pred):\n",
    "    logits, y = eval_pred\n",
    "    x = logits.argmax(-1)\n",
    "    return {k: v for metric in [m.compute(predictions=x, references=y) for m in metrics] for k, v in metric.items()}"
   ]
  },
  {
   "cell_type": "markdown",
   "metadata": {},
   "source": [
    "# Define model"
   ]
  },
  {
   "cell_type": "code",
   "execution_count": 141,
   "metadata": {},
   "outputs": [
    {
     "name": "stderr",
     "output_type": "stream",
     "text": [
      "Some weights of BertForSequenceClassification were not initialized from the model checkpoint at microsoft/MiniLM-L12-H384-uncased and are newly initialized: ['classifier.bias', 'classifier.weight']\n",
      "You should probably TRAIN this model on a down-stream task to be able to use it for predictions and inference.\n"
     ]
    }
   ],
   "source": [
    "from transformers import AutoModelForSequenceClassification\n",
    "\n",
    "\n",
    "model = AutoModelForSequenceClassification.from_pretrained(\n",
    "    #\"Rostlab/prot_bert\",\n",
    "    \"microsoft/MiniLM-L12-H384-uncased\",\n",
    "    num_labels=2,\n",
    "    label2id = {\n",
    "        'NO_SP': 0,\n",
    "        'SP': 1\n",
    "    },\n",
    "    id2label= {\n",
    "        0: 'NO_SP',\n",
    "        1: 'SP'\n",
    "}).to(device)"
   ]
  },
  {
   "cell_type": "markdown",
   "metadata": {},
   "source": [
    "## Define FocalLoss, compute class weights and create a custom Trainer"
   ]
  },
  {
   "cell_type": "code",
   "execution_count": 142,
   "metadata": {},
   "outputs": [],
   "source": [
    "class FocalLoss(nn.Module):\n",
    "    def __init__(self, weights, gamma=2):\n",
    "        super(FocalLoss, self).__init__()\n",
    "        self.alpha = weights\n",
    "        self.gamma = gamma\n",
    "\n",
    "    def forward(self, inputs, targets):\n",
    "        ce_loss = F.cross_entropy(inputs, targets, reduction='none')\n",
    "        pt = torch.exp(-ce_loss)\n",
    "        loss = (self.alpha[targets] * (1 - pt) ** self.gamma * ce_loss).mean()\n",
    "        return loss"
   ]
  },
  {
   "cell_type": "code",
   "execution_count": 143,
   "metadata": {},
   "outputs": [
    {
     "data": {
      "text/plain": [
       "tensor([0.6493, 2.1747], device='cuda:0')"
      ]
     },
     "execution_count": 143,
     "metadata": {},
     "output_type": "execute_result"
    }
   ],
   "source": [
    "from sklearn.utils.class_weight import compute_class_weight\n",
    "class_weights = compute_class_weight('balanced', classes=np.array([0, 1]), y=dataset_train['labels'].cpu().numpy())\n",
    "class_weights = torch.tensor(class_weights).to(device).float()\n",
    "class_weights"
   ]
  },
  {
   "cell_type": "code",
   "execution_count": 144,
   "metadata": {},
   "outputs": [],
   "source": [
    "from transformers import Trainer\n",
    "\n",
    "class WeightedLossTrainer(Trainer):\n",
    "    def compute_loss(self, model, inputs, return_outputs=False):\n",
    "        \n",
    "        outputs = model(**inputs)\n",
    "        logits = outputs.get('logits')\n",
    "        labels = inputs.get('labels')\n",
    "\n",
    "        loss_fn = FocalLoss(weights=class_weights)\n",
    "        loss = loss_fn(logits, labels)\n",
    "        return (loss, outputs) if return_outputs else loss"
   ]
  },
  {
   "cell_type": "code",
   "execution_count": 145,
   "metadata": {},
   "outputs": [],
   "source": [
    "from transformers import TrainingArguments\n",
    "\n",
    "# batch_size = 8\n",
    "epochs = 50\n",
    "logging_steps=1000\n",
    "eval_steps=10000\n",
    "\n",
    "args = TrainingArguments(\n",
    "    output_dir='./model',\n",
    "    logging_dir=\"./logs\",\n",
    "    num_train_epochs=epochs,\n",
    "    learning_rate=2e-5,\n",
    "    logging_first_step=True,\n",
    "    weight_decay=0.0001,\n",
    "    evaluation_strategy='steps',\n",
    "    save_strategy='epoch',\n",
    "    logging_steps=logging_steps,\n",
    "    eval_steps=eval_steps,\n",
    "    fp16=True,\n",
    "    optim='adamw_torch',\n",
    "    remove_unused_columns=True,\n",
    "    auto_find_batch_size=True,\n",
    ")"
   ]
  },
  {
   "cell_type": "code",
   "execution_count": 146,
   "metadata": {},
   "outputs": [
    {
     "data": {
      "application/vnd.jupyter.widget-view+json": {
       "model_id": "8eb197b213724071809a026d5e35f62b",
       "version_major": 2,
       "version_minor": 0
      },
      "text/plain": [
       "  0%|          | 0/126850 [00:00<?, ?it/s]"
      ]
     },
     "metadata": {},
     "output_type": "display_data"
    },
    {
     "name": "stdout",
     "output_type": "stream",
     "text": [
      "{'loss': 0.2456, 'learning_rate': 1.9999842333464724e-05, 'epoch': 0.0}\n",
      "{'loss': 0.1742, 'learning_rate': 1.9842333464722114e-05, 'epoch': 0.39}\n",
      "{'loss': 0.1345, 'learning_rate': 1.9685297595585336e-05, 'epoch': 0.79}\n",
      "{'loss': 0.0825, 'learning_rate': 1.952763106030745e-05, 'epoch': 1.18}\n",
      "{'loss': 0.0691, 'learning_rate': 1.9370122191564842e-05, 'epoch': 1.58}\n",
      "{'loss': 0.0593, 'learning_rate': 1.9212455656286955e-05, 'epoch': 1.97}\n",
      "{'loss': 0.0559, 'learning_rate': 1.9054789121009067e-05, 'epoch': 2.36}\n",
      "{'loss': 0.0505, 'learning_rate': 1.889712258573118e-05, 'epoch': 2.76}\n",
      "{'loss': 0.0585, 'learning_rate': 1.8739456050453293e-05, 'epoch': 3.15}\n",
      "{'loss': 0.0496, 'learning_rate': 1.8581789515175405e-05, 'epoch': 3.55}\n",
      "{'loss': 0.0504, 'learning_rate': 1.84242806464328e-05, 'epoch': 3.94}\n"
     ]
    },
    {
     "data": {
      "application/vnd.jupyter.widget-view+json": {
       "model_id": "0f0554c7172e4ca880b9e0466adf95f8",
       "version_major": 2,
       "version_minor": 0
      },
      "text/plain": [
       "  0%|          | 0/221 [00:00<?, ?it/s]"
      ]
     },
     "metadata": {},
     "output_type": "display_data"
    },
    {
     "name": "stdout",
     "output_type": "stream",
     "text": [
      "{'eval_loss': 0.02506309188902378, 'eval_accuracy': 0.9750283768444948, 'eval_precision': 0.8692307692307693, 'eval_recall': 0.9576271186440678, 'eval_f1': 0.9112903225806451, 'eval_runtime': 6.3761, 'eval_samples_per_second': 276.344, 'eval_steps_per_second': 34.661, 'epoch': 3.94}\n",
      "{'loss': 0.0442, 'learning_rate': 1.8266614111154908e-05, 'epoch': 4.34}\n",
      "{'loss': 0.0467, 'learning_rate': 1.8109105242412298e-05, 'epoch': 4.73}\n",
      "{'loss': 0.0448, 'learning_rate': 1.795159637366969e-05, 'epoch': 5.12}\n",
      "{'loss': 0.0418, 'learning_rate': 1.7793929838391804e-05, 'epoch': 5.52}\n",
      "{'loss': 0.0339, 'learning_rate': 1.7636263303113916e-05, 'epoch': 5.91}\n",
      "{'loss': 0.0385, 'learning_rate': 1.747859676783603e-05, 'epoch': 6.31}\n",
      "{'loss': 0.0425, 'learning_rate': 1.732093023255814e-05, 'epoch': 6.7}\n",
      "{'loss': 0.0413, 'learning_rate': 1.716342136381553e-05, 'epoch': 7.09}\n",
      "{'loss': 0.039, 'learning_rate': 1.7005754828537644e-05, 'epoch': 7.49}\n",
      "{'loss': 0.0398, 'learning_rate': 1.6848088293259757e-05, 'epoch': 7.88}\n"
     ]
    },
    {
     "data": {
      "application/vnd.jupyter.widget-view+json": {
       "model_id": "47abb30e7e0d4d3a8ba52f32127a1cf0",
       "version_major": 2,
       "version_minor": 0
      },
      "text/plain": [
       "  0%|          | 0/221 [00:00<?, ?it/s]"
      ]
     },
     "metadata": {},
     "output_type": "display_data"
    },
    {
     "name": "stdout",
     "output_type": "stream",
     "text": [
      "{'eval_loss': 0.02478128857910633, 'eval_accuracy': 0.9750283768444948, 'eval_precision': 0.8582089552238806, 'eval_recall': 0.9745762711864406, 'eval_f1': 0.9126984126984127, 'eval_runtime': 6.0449, 'eval_samples_per_second': 291.487, 'eval_steps_per_second': 36.56, 'epoch': 7.88}\n",
      "{'loss': 0.0347, 'learning_rate': 1.6690737091052424e-05, 'epoch': 8.28}\n",
      "{'loss': 0.0428, 'learning_rate': 1.6533070555774536e-05, 'epoch': 8.67}\n",
      "{'loss': 0.0391, 'learning_rate': 1.637540402049665e-05, 'epoch': 9.07}\n",
      "{'loss': 0.0347, 'learning_rate': 1.6217895151754042e-05, 'epoch': 9.46}\n",
      "{'loss': 0.0336, 'learning_rate': 1.6060228616476155e-05, 'epoch': 9.85}\n",
      "{'loss': 0.033, 'learning_rate': 1.5902562081198268e-05, 'epoch': 10.25}\n",
      "{'loss': 0.0318, 'learning_rate': 1.574489554592038e-05, 'epoch': 10.64}\n",
      "{'loss': 0.0338, 'learning_rate': 1.5587229010642493e-05, 'epoch': 11.04}\n",
      "{'loss': 0.0315, 'learning_rate': 1.5429562475364605e-05, 'epoch': 11.43}\n",
      "{'loss': 0.0271, 'learning_rate': 1.5272053606621995e-05, 'epoch': 11.82}\n"
     ]
    },
    {
     "data": {
      "application/vnd.jupyter.widget-view+json": {
       "model_id": "60bb699f473e4d128419d3540c8a11cd",
       "version_major": 2,
       "version_minor": 0
      },
      "text/plain": [
       "  0%|          | 0/221 [00:00<?, ?it/s]"
      ]
     },
     "metadata": {},
     "output_type": "display_data"
    },
    {
     "name": "stdout",
     "output_type": "stream",
     "text": [
      "{'eval_loss': 0.010149164125323296, 'eval_accuracy': 0.9903518728717366, 'eval_precision': 0.9397590361445783, 'eval_recall': 0.9915254237288136, 'eval_f1': 0.9649484536082474, 'eval_runtime': 6.3243, 'eval_samples_per_second': 278.608, 'eval_steps_per_second': 34.945, 'epoch': 11.82}\n",
      "{'loss': 0.0343, 'learning_rate': 1.5114387071344108e-05, 'epoch': 12.22}\n",
      "{'loss': 0.0311, 'learning_rate': 1.49568782026015e-05, 'epoch': 12.61}\n",
      "{'loss': 0.0278, 'learning_rate': 1.4799369333858891e-05, 'epoch': 13.01}\n",
      "{'loss': 0.027, 'learning_rate': 1.4641702798581004e-05, 'epoch': 13.4}\n",
      "{'loss': 0.0285, 'learning_rate': 1.4484036263303116e-05, 'epoch': 13.8}\n",
      "{'loss': 0.0303, 'learning_rate': 1.4326527394560506e-05, 'epoch': 14.19}\n",
      "{'loss': 0.0253, 'learning_rate': 1.4168860859282619e-05, 'epoch': 14.58}\n",
      "{'loss': 0.0252, 'learning_rate': 1.401135199054001e-05, 'epoch': 14.98}\n",
      "{'loss': 0.027, 'learning_rate': 1.3853685455262123e-05, 'epoch': 15.37}\n",
      "{'loss': 0.0257, 'learning_rate': 1.3696018919984236e-05, 'epoch': 15.77}\n"
     ]
    },
    {
     "data": {
      "application/vnd.jupyter.widget-view+json": {
       "model_id": "1ffe2e2d3a7b40df9956d811b2eed9da",
       "version_major": 2,
       "version_minor": 0
      },
      "text/plain": [
       "  0%|          | 0/221 [00:00<?, ?it/s]"
      ]
     },
     "metadata": {},
     "output_type": "display_data"
    },
    {
     "name": "stdout",
     "output_type": "stream",
     "text": [
      "{'eval_loss': 0.031208263710141182, 'eval_accuracy': 0.9841089670828603, 'eval_precision': 0.940677966101695, 'eval_recall': 0.940677966101695, 'eval_f1': 0.940677966101695, 'eval_runtime': 6.3572, 'eval_samples_per_second': 277.168, 'eval_steps_per_second': 34.764, 'epoch': 15.77}\n",
      "{'loss': 0.0252, 'learning_rate': 1.3538352384706348e-05, 'epoch': 16.16}\n",
      "{'loss': 0.0272, 'learning_rate': 1.3381001182499016e-05, 'epoch': 16.55}\n",
      "{'loss': 0.023, 'learning_rate': 1.3223334647221128e-05, 'epoch': 16.95}\n",
      "{'loss': 0.0254, 'learning_rate': 1.306566811194324e-05, 'epoch': 17.34}\n",
      "{'loss': 0.0229, 'learning_rate': 1.290815924320063e-05, 'epoch': 17.74}\n",
      "{'loss': 0.0241, 'learning_rate': 1.2750492707922743e-05, 'epoch': 18.13}\n",
      "{'loss': 0.0234, 'learning_rate': 1.2592826172644856e-05, 'epoch': 18.53}\n",
      "{'loss': 0.0237, 'learning_rate': 1.2435317303902248e-05, 'epoch': 18.92}\n",
      "{'loss': 0.023, 'learning_rate': 1.227765076862436e-05, 'epoch': 19.31}\n",
      "{'loss': 0.0269, 'learning_rate': 1.2119984233346473e-05, 'epoch': 19.71}\n"
     ]
    },
    {
     "data": {
      "application/vnd.jupyter.widget-view+json": {
       "model_id": "0347e72eeff84776a3cca1a5dbe4ecbd",
       "version_major": 2,
       "version_minor": 0
      },
      "text/plain": [
       "  0%|          | 0/221 [00:00<?, ?it/s]"
      ]
     },
     "metadata": {},
     "output_type": "display_data"
    },
    {
     "name": "stdout",
     "output_type": "stream",
     "text": [
      "{'eval_loss': 0.00856984406709671, 'eval_accuracy': 0.9948921679909194, 'eval_precision': 0.9789029535864979, 'eval_recall': 0.9830508474576272, 'eval_f1': 0.9809725158562368, 'eval_runtime': 6.0459, 'eval_samples_per_second': 291.435, 'eval_steps_per_second': 36.553, 'epoch': 19.71}\n",
      "{'loss': 0.0213, 'learning_rate': 1.1962317698068587e-05, 'epoch': 20.1}\n",
      "{'loss': 0.0223, 'learning_rate': 1.18046511627907e-05, 'epoch': 20.5}\n",
      "{'loss': 0.0247, 'learning_rate': 1.1647142294048088e-05, 'epoch': 20.89}\n",
      "{'loss': 0.0181, 'learning_rate': 1.148963342530548e-05, 'epoch': 21.28}\n",
      "{'loss': 0.0198, 'learning_rate': 1.1331966890027592e-05, 'epoch': 21.68}\n",
      "{'loss': 0.0216, 'learning_rate': 1.1174300354749705e-05, 'epoch': 22.07}\n",
      "{'loss': 0.0214, 'learning_rate': 1.1016791486007096e-05, 'epoch': 22.47}\n",
      "{'loss': 0.0208, 'learning_rate': 1.0859124950729209e-05, 'epoch': 22.86}\n",
      "{'loss': 0.0174, 'learning_rate': 1.0701773748521878e-05, 'epoch': 23.26}\n",
      "{'loss': 0.0193, 'learning_rate': 1.054410721324399e-05, 'epoch': 23.65}\n"
     ]
    },
    {
     "data": {
      "application/vnd.jupyter.widget-view+json": {
       "model_id": "6211ed64af7641d3908a3504a3d3d814",
       "version_major": 2,
       "version_minor": 0
      },
      "text/plain": [
       "  0%|          | 0/221 [00:00<?, ?it/s]"
      ]
     },
     "metadata": {},
     "output_type": "display_data"
    },
    {
     "name": "stdout",
     "output_type": "stream",
     "text": [
      "{'eval_loss': 0.010104711167514324, 'eval_accuracy': 0.9943246311010215, 'eval_precision': 0.9747899159663865, 'eval_recall': 0.9830508474576272, 'eval_f1': 0.9789029535864979, 'eval_runtime': 6.1461, 'eval_samples_per_second': 286.688, 'eval_steps_per_second': 35.958, 'epoch': 23.65}\n",
      "{'loss': 0.0204, 'learning_rate': 1.0386440677966103e-05, 'epoch': 24.04}\n",
      "{'loss': 0.0189, 'learning_rate': 1.0228774142688216e-05, 'epoch': 24.44}\n",
      "{'loss': 0.0158, 'learning_rate': 1.0071107607410328e-05, 'epoch': 24.83}\n",
      "{'loss': 0.022, 'learning_rate': 9.913598738667718e-06, 'epoch': 25.23}\n",
      "{'loss': 0.0176, 'learning_rate': 9.755932203389833e-06, 'epoch': 25.62}\n",
      "{'loss': 0.0176, 'learning_rate': 9.598265668111943e-06, 'epoch': 26.01}\n",
      "{'loss': 0.0164, 'learning_rate': 9.440599132834056e-06, 'epoch': 26.41}\n",
      "{'loss': 0.0196, 'learning_rate': 9.283090264091448e-06, 'epoch': 26.8}\n",
      "{'loss': 0.0168, 'learning_rate': 9.125581395348838e-06, 'epoch': 27.2}\n",
      "{'loss': 0.0167, 'learning_rate': 8.96791486007095e-06, 'epoch': 27.59}\n"
     ]
    },
    {
     "data": {
      "application/vnd.jupyter.widget-view+json": {
       "model_id": "d903ca9c7b8c47bc82983ccc3ffb5360",
       "version_major": 2,
       "version_minor": 0
      },
      "text/plain": [
       "  0%|          | 0/221 [00:00<?, ?it/s]"
      ]
     },
     "metadata": {},
     "output_type": "display_data"
    },
    {
     "name": "stdout",
     "output_type": "stream",
     "text": [
      "{'eval_loss': 0.015500849112868309, 'eval_accuracy': 0.9960272417707151, 'eval_precision': 1.0, 'eval_recall': 0.9703389830508474, 'eval_f1': 0.9849462365591398, 'eval_runtime': 6.0236, 'eval_samples_per_second': 292.516, 'eval_steps_per_second': 36.689, 'epoch': 27.59}\n",
      "{'loss': 0.018, 'learning_rate': 8.810248324793063e-06, 'epoch': 27.99}\n",
      "{'loss': 0.0133, 'learning_rate': 8.652739456050455e-06, 'epoch': 28.38}\n",
      "{'loss': 0.0187, 'learning_rate': 8.495388253843122e-06, 'epoch': 28.77}\n",
      "{'loss': 0.0167, 'learning_rate': 8.337721718565234e-06, 'epoch': 29.17}\n",
      "{'loss': 0.0151, 'learning_rate': 8.180055183287347e-06, 'epoch': 29.56}\n",
      "{'loss': 0.0127, 'learning_rate': 8.02238864800946e-06, 'epoch': 29.96}\n",
      "{'loss': 0.017, 'learning_rate': 7.864722112731574e-06, 'epoch': 30.35}\n",
      "{'loss': 0.0148, 'learning_rate': 7.707213243988964e-06, 'epoch': 30.74}\n",
      "{'loss': 0.0136, 'learning_rate': 7.5495467087110764e-06, 'epoch': 31.14}\n",
      "{'loss': 0.0141, 'learning_rate': 7.391880173433189e-06, 'epoch': 31.53}\n"
     ]
    },
    {
     "data": {
      "application/vnd.jupyter.widget-view+json": {
       "model_id": "93ec59b706e442e7bfe8ca8bb2f07baa",
       "version_major": 2,
       "version_minor": 0
      },
      "text/plain": [
       "  0%|          | 0/221 [00:00<?, ?it/s]"
      ]
     },
     "metadata": {},
     "output_type": "display_data"
    },
    {
     "name": "stdout",
     "output_type": "stream",
     "text": [
      "{'eval_loss': 0.012631294317543507, 'eval_accuracy': 0.9954597048808173, 'eval_precision': 0.9913793103448276, 'eval_recall': 0.9745762711864406, 'eval_f1': 0.9829059829059829, 'eval_runtime': 6.0398, 'eval_samples_per_second': 291.729, 'eval_steps_per_second': 36.59, 'epoch': 31.53}\n",
      "{'loss': 0.0156, 'learning_rate': 7.23437130469058e-06, 'epoch': 31.93}\n",
      "{'loss': 0.0136, 'learning_rate': 7.0767047694126924e-06, 'epoch': 32.32}\n",
      "{'loss': 0.013, 'learning_rate': 6.919038234134805e-06, 'epoch': 32.72}\n",
      "{'loss': 0.0093, 'learning_rate': 6.761371698856918e-06, 'epoch': 33.11}\n",
      "{'loss': 0.0121, 'learning_rate': 6.603862830114309e-06, 'epoch': 33.5}\n",
      "{'loss': 0.0136, 'learning_rate': 6.4463539613717e-06, 'epoch': 33.9}\n",
      "{'loss': 0.013, 'learning_rate': 6.288687426093813e-06, 'epoch': 34.29}\n",
      "{'loss': 0.0135, 'learning_rate': 6.131178557351203e-06, 'epoch': 34.69}\n",
      "{'loss': 0.016, 'learning_rate': 5.973512022073315e-06, 'epoch': 35.08}\n",
      "{'loss': 0.0144, 'learning_rate': 5.815845486795429e-06, 'epoch': 35.47}\n"
     ]
    },
    {
     "data": {
      "application/vnd.jupyter.widget-view+json": {
       "model_id": "31b9e471f0f340bd8f80b28935aa7b99",
       "version_major": 2,
       "version_minor": 0
      },
      "text/plain": [
       "  0%|          | 0/221 [00:00<?, ?it/s]"
      ]
     },
     "metadata": {},
     "output_type": "display_data"
    },
    {
     "name": "stdout",
     "output_type": "stream",
     "text": [
      "{'eval_loss': 0.009375466965138912, 'eval_accuracy': 0.996594778660613, 'eval_precision': 0.9914529914529915, 'eval_recall': 0.9830508474576272, 'eval_f1': 0.9872340425531915, 'eval_runtime': 6.361, 'eval_samples_per_second': 276.999, 'eval_steps_per_second': 34.743, 'epoch': 35.47}\n",
      "{'loss': 0.0155, 'learning_rate': 5.658336618052819e-06, 'epoch': 35.87}\n",
      "{'loss': 0.0126, 'learning_rate': 5.500670082774931e-06, 'epoch': 36.26}\n",
      "{'loss': 0.0094, 'learning_rate': 5.343161214032322e-06, 'epoch': 36.66}\n",
      "{'loss': 0.0106, 'learning_rate': 5.185494678754435e-06, 'epoch': 37.05}\n",
      "{'loss': 0.0115, 'learning_rate': 5.027828143476547e-06, 'epoch': 37.45}\n",
      "{'loss': 0.0087, 'learning_rate': 4.870161608198661e-06, 'epoch': 37.84}\n",
      "{'loss': 0.0126, 'learning_rate': 4.712495072920773e-06, 'epoch': 38.23}\n",
      "{'loss': 0.009, 'learning_rate': 4.554986204178163e-06, 'epoch': 38.63}\n",
      "{'loss': 0.0129, 'learning_rate': 4.397319668900277e-06, 'epoch': 39.02}\n",
      "{'loss': 0.009, 'learning_rate': 4.239653133622389e-06, 'epoch': 39.42}\n"
     ]
    },
    {
     "data": {
      "application/vnd.jupyter.widget-view+json": {
       "model_id": "0d794c1f65a64001aef102b31792fe60",
       "version_major": 2,
       "version_minor": 0
      },
      "text/plain": [
       "  0%|          | 0/221 [00:00<?, ?it/s]"
      ]
     },
     "metadata": {},
     "output_type": "display_data"
    },
    {
     "name": "stdout",
     "output_type": "stream",
     "text": [
      "{'eval_loss': 0.008661070838570595, 'eval_accuracy': 0.996594778660613, 'eval_precision': 0.9872881355932204, 'eval_recall': 0.9872881355932204, 'eval_f1': 0.9872881355932204, 'eval_runtime': 6.0434, 'eval_samples_per_second': 291.559, 'eval_steps_per_second': 36.569, 'epoch': 39.42}\n",
      "{'loss': 0.0066, 'learning_rate': 4.081986598344502e-06, 'epoch': 39.81}\n",
      "{'loss': 0.0116, 'learning_rate': 3.924477729601892e-06, 'epoch': 40.2}\n",
      "{'loss': 0.0099, 'learning_rate': 3.7668111943240047e-06, 'epoch': 40.6}\n",
      "{'loss': 0.0087, 'learning_rate': 3.6091446590461178e-06, 'epoch': 40.99}\n",
      "{'loss': 0.0092, 'learning_rate': 3.4516357903035086e-06, 'epoch': 41.39}\n",
      "{'loss': 0.0098, 'learning_rate': 3.2939692550256207e-06, 'epoch': 41.78}\n",
      "{'loss': 0.0092, 'learning_rate': 3.1363027197477337e-06, 'epoch': 42.18}\n",
      "{'loss': 0.0111, 'learning_rate': 2.9787938510051245e-06, 'epoch': 42.57}\n",
      "{'loss': 0.0077, 'learning_rate': 2.821127315727237e-06, 'epoch': 42.96}\n",
      "{'loss': 0.0084, 'learning_rate': 2.66346078044935e-06, 'epoch': 43.36}\n"
     ]
    },
    {
     "data": {
      "application/vnd.jupyter.widget-view+json": {
       "model_id": "434e349c7a1f4b4ebbd3ac93ad1f52c3",
       "version_major": 2,
       "version_minor": 0
      },
      "text/plain": [
       "  0%|          | 0/221 [00:00<?, ?it/s]"
      ]
     },
     "metadata": {},
     "output_type": "display_data"
    },
    {
     "name": "stdout",
     "output_type": "stream",
     "text": [
      "{'eval_loss': 0.018768297508358955, 'eval_accuracy': 0.9954597048808173, 'eval_precision': 0.9956521739130435, 'eval_recall': 0.9703389830508474, 'eval_f1': 0.9828326180257511, 'eval_runtime': 5.9996, 'eval_samples_per_second': 293.685, 'eval_steps_per_second': 36.836, 'epoch': 43.36}\n",
      "{'loss': 0.0086, 'learning_rate': 2.5059519117067405e-06, 'epoch': 43.75}\n",
      "{'loss': 0.0092, 'learning_rate': 2.348285376428853e-06, 'epoch': 44.15}\n",
      "{'loss': 0.0099, 'learning_rate': 2.190618841150966e-06, 'epoch': 44.54}\n",
      "{'loss': 0.0101, 'learning_rate': 2.0331099724083565e-06, 'epoch': 44.93}\n",
      "{'loss': 0.0079, 'learning_rate': 1.8754434371304691e-06, 'epoch': 45.33}\n",
      "{'loss': 0.0102, 'learning_rate': 1.71793456838786e-06, 'epoch': 45.72}\n",
      "{'loss': 0.0086, 'learning_rate': 1.5602680331099725e-06, 'epoch': 46.12}\n",
      "{'loss': 0.0097, 'learning_rate': 1.4026014978320853e-06, 'epoch': 46.51}\n",
      "{'loss': 0.0048, 'learning_rate': 1.2449349625541981e-06, 'epoch': 46.91}\n",
      "{'loss': 0.0112, 'learning_rate': 1.0872684272763107e-06, 'epoch': 47.3}\n"
     ]
    },
    {
     "data": {
      "application/vnd.jupyter.widget-view+json": {
       "model_id": "8c9eab9492dd4815bdbb810f9d2cdc1a",
       "version_major": 2,
       "version_minor": 0
      },
      "text/plain": [
       "  0%|          | 0/221 [00:00<?, ?it/s]"
      ]
     },
     "metadata": {},
     "output_type": "display_data"
    },
    {
     "name": "stdout",
     "output_type": "stream",
     "text": [
      "{'eval_loss': 0.008344221860170364, 'eval_accuracy': 0.996594778660613, 'eval_precision': 0.9872881355932204, 'eval_recall': 0.9872881355932204, 'eval_f1': 0.9872881355932204, 'eval_runtime': 6.0461, 'eval_samples_per_second': 291.429, 'eval_steps_per_second': 36.553, 'epoch': 47.3}\n",
      "{'loss': 0.0069, 'learning_rate': 9.297595585337013e-07, 'epoch': 47.69}\n",
      "{'loss': 0.0103, 'learning_rate': 7.72250689791092e-07, 'epoch': 48.09}\n",
      "{'loss': 0.0079, 'learning_rate': 6.145841545132046e-07, 'epoch': 48.48}\n",
      "{'loss': 0.0061, 'learning_rate': 4.5691761923531733e-07, 'epoch': 48.88}\n",
      "{'loss': 0.0081, 'learning_rate': 2.994087504927079e-07, 'epoch': 49.27}\n",
      "{'loss': 0.0101, 'learning_rate': 1.4174221521482067e-07, 'epoch': 49.66}\n",
      "{'train_runtime': 11129.2553, 'train_samples_per_second': 91.156, 'train_steps_per_second': 11.398, 'train_loss': 0.024358350507001685, 'epoch': 50.0}\n"
     ]
    },
    {
     "data": {
      "text/plain": [
       "TrainOutput(global_step=126850, training_loss=0.024358350507001685, metrics={'train_runtime': 11129.2553, 'train_samples_per_second': 91.156, 'train_steps_per_second': 11.398, 'train_loss': 0.024358350507001685, 'epoch': 50.0})"
      ]
     },
     "execution_count": 146,
     "metadata": {},
     "output_type": "execute_result"
    }
   ],
   "source": [
    "trainer = WeightedLossTrainer(\n",
    "    model=model,\n",
    "    args=args,\n",
    "    compute_metrics=compute_metrics,\n",
    "    train_dataset=dataset_train,\n",
    "    eval_dataset=dataset_val,\n",
    "    tokenizer=tokenizer\n",
    ")\n",
    "trainer.train()"
   ]
  },
  {
   "cell_type": "code",
   "execution_count": 152,
   "metadata": {},
   "outputs": [
    {
     "data": {
      "text/plain": [
       "('./model/checkpoint-final\\\\tokenizer_config.json',\n",
       " './model/checkpoint-final\\\\special_tokens_map.json',\n",
       " './model/checkpoint-final\\\\vocab.txt',\n",
       " './model/checkpoint-final\\\\added_tokens.json',\n",
       " './model/checkpoint-final\\\\tokenizer.json')"
      ]
     },
     "execution_count": 152,
     "metadata": {},
     "output_type": "execute_result"
    }
   ],
   "source": [
    "model.save_pretrained(\"./model/checkpoint-final\")\n",
    "tokenizer.save_pretrained(\"./model/checkpoint-final\")"
   ]
  },
  {
   "cell_type": "code",
   "execution_count": 153,
   "metadata": {},
   "outputs": [],
   "source": [
    "model = AutoModelForSequenceClassification.from_pretrained(\"./model/checkpoint-final\").to(device)\n",
    "tokenizer = AutoTokenizer.from_pretrained(\"./model/checkpoint-final\")"
   ]
  },
  {
   "cell_type": "code",
   "execution_count": 154,
   "metadata": {},
   "outputs": [
    {
     "data": {
      "text/plain": [
       "tensor([0], device='cuda:0')"
      ]
     },
     "execution_count": 154,
     "metadata": {},
     "output_type": "execute_result"
    }
   ],
   "source": [
    "samples = dataset_test.select_columns(['input_ids', 'attention_mask', 'labels'])\n",
    "sample = samples[torch.randint(len(samples), (1,))]\n",
    "with torch.no_grad():\n",
    "    pred = model(**sample).logits.argmax(-1)\n",
    "pred-sample['labels']"
   ]
  },
  {
   "cell_type": "code",
   "execution_count": 155,
   "metadata": {},
   "outputs": [
    {
     "data": {
      "application/vnd.jupyter.widget-view+json": {
       "model_id": "365a169a599040b8b616e74b869874a9",
       "version_major": 2,
       "version_minor": 0
      },
      "text/plain": [
       "  0%|          | 0/882 [00:00<?, ?it/s]"
      ]
     },
     "metadata": {},
     "output_type": "display_data"
    }
   ],
   "source": [
    "res = []\n",
    "for batch in tqdm(torch.utils.data.DataLoader(samples, batch_size=8)):\n",
    "    pred = model(**batch).logits.argmax(-1)\n",
    "    for p, l in zip(pred, batch['labels']):\n",
    "        res.append((p.item(), l.item()))"
   ]
  },
  {
   "cell_type": "code",
   "execution_count": 156,
   "metadata": {},
   "outputs": [
    {
     "data": {
      "text/plain": [
       "pred  label\n",
       "0     0        6039\n",
       "1     1         983\n",
       "      0          15\n",
       "0     1          12\n",
       "Name: count, dtype: int64"
      ]
     },
     "execution_count": 156,
     "metadata": {},
     "output_type": "execute_result"
    }
   ],
   "source": [
    "pd.DataFrame(res, columns=['pred', 'label']).value_counts()"
   ]
  },
  {
   "cell_type": "markdown",
   "metadata": {},
   "source": [
    "```python\n",
    "# TODO: check if this is correct\n",
    "loss_weights = torch.tensor([neg_weight if x[0] == 1 else pos_weight for x in batch['label']])\n",
    "loss_weights = torch.tensor([neg_weight, pos_weight]).to(device) # or this\n",
    "model_v = \"microsoft/MiniLM-L12-H384-uncased\"\n",
    "\n",
    "# Classical training loop:\n",
    "import pickle\n",
    "loss_log = []\n",
    "epoch0 = 0\n",
    "if os.path.exists(\"model/temp.state\"):\n",
    "    with open(\"model/temp.state\", \"rb\") as f:\n",
    "        state = pickle.load(f)\n",
    "        loss_log = state['loss_log']\n",
    "        epoch0 = state['epoch']\n",
    "\n",
    "optimizer = torch.optim.AdamW(model.parameters(), lr=1e-3)\n",
    "epochs = 10\n",
    "batch_size = 4\n",
    "\n",
    "model.train()\n",
    "batches = DataLoader(dataset_train, batch_size=batch_size, shuffle=True)\n",
    "for epoch in range(epoch0, epochs):\n",
    "    for i, batch in enumerate(tqdm(batches)):\n",
    "        class_weights = torch.tensor([neg_weight if x[0] == 1 else pos_weight for x in batch['labels']]).to(device)\n",
    "\n",
    "        optimizer.zero_grad()\n",
    "        loss = model.loss(batch, weights=class_weights)\n",
    "\n",
    "        loss.backward()\n",
    "        optimizer.step()\n",
    "        loss_log.append(loss.cpu().detach().item())\n",
    "        if (i+1) % (len(batches) // 20) == 0:\n",
    "            print(np.mean(loss_log[-5000:]))\n",
    "```"
   ]
  }
 ],
 "metadata": {
  "kernelspec": {
   "display_name": "Python 3",
   "language": "python",
   "name": "python3"
  },
  "language_info": {
   "codemirror_mode": {
    "name": "ipython",
    "version": 3
   },
   "file_extension": ".py",
   "mimetype": "text/x-python",
   "name": "python",
   "nbconvert_exporter": "python",
   "pygments_lexer": "ipython3",
   "version": "3.10.11"
  }
 },
 "nbformat": 4,
 "nbformat_minor": 2
}
