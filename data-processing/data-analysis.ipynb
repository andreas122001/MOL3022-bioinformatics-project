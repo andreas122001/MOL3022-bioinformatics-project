{
 "cells": [
  {
   "cell_type": "code",
   "execution_count": 47,
   "metadata": {},
   "outputs": [],
   "source": [
    "from tqdm import tqdm\n",
    "import pandas as pd"
   ]
  },
  {
   "cell_type": "code",
   "execution_count": 48,
   "metadata": {},
   "outputs": [],
   "source": [
    "def load_data(path):\n",
    "    ds = []\n",
    "    # Read from src\n",
    "    with open(path, \"r\") as f:\n",
    "        lines = f.read().split(\">\")[1:]\n",
    "        ds = [0]*len(lines)\n",
    "        for i, line in enumerate(tqdm(lines)):\n",
    "            header, seq, sep = line.strip().split(\"\\n\")\n",
    "            ac, kingdom, type_, id_ = header.split(\"|\")\n",
    "            ds[i] = {\n",
    "                'header': {\n",
    "                    'uniprot_ac': ac,\n",
    "                    'kingdom': kingdom,\n",
    "                    'type': type_,\n",
    "                    'id': id_\n",
    "                },\n",
    "                'seq': seq,\n",
    "                'sep': sep\n",
    "            }\n",
    "    return ds"
   ]
  },
  {
   "cell_type": "code",
   "execution_count": 49,
   "metadata": {},
   "outputs": [
    {
     "name": "stderr",
     "output_type": "stream",
     "text": [
      "100%|██████████| 20290/20290 [00:00<00:00, 654548.47it/s]\n",
      "  0%|          | 0/8811 [00:00<?, ?it/s]"
     ]
    },
    {
     "name": "stderr",
     "output_type": "stream",
     "text": [
      "100%|██████████| 8811/8811 [00:00<00:00, 629167.02it/s]"
     ]
    },
    {
     "name": "stdout",
     "output_type": "stream",
     "text": [
      "<class 'pandas.core.frame.DataFrame'>\n",
      "RangeIndex: 29101 entries, 0 to 29100\n",
      "Data columns (total 3 columns):\n",
      " #   Column  Non-Null Count  Dtype \n",
      "---  ------  --------------  ----- \n",
      " 0   header  29101 non-null  object\n",
      " 1   seq     29101 non-null  object\n",
      " 2   sep     29101 non-null  object\n",
      "dtypes: object(3)\n",
      "memory usage: 682.2+ KB\n"
     ]
    },
    {
     "name": "stderr",
     "output_type": "stream",
     "text": [
      "\n"
     ]
    }
   ],
   "source": [
    "ds_train = load_data('../data/train.fasta')\n",
    "ds_test = load_data('../data/test.fasta')\n",
    "ds = ds_train + ds_test\n",
    "df = pd.DataFrame(ds)\n",
    "df.info()"
   ]
  },
  {
   "cell_type": "code",
   "execution_count": 50,
   "metadata": {},
   "outputs": [],
   "source": [
    "kingdoms = pd.DataFrame([i['kingdom'] for i in df.get('header')])\n",
    "sequences = df.get('seq')\n",
    "classes = df.get('sep')"
   ]
  },
  {
   "cell_type": "code",
   "execution_count": 51,
   "metadata": {},
   "outputs": [
    {
     "data": {
      "text/plain": [
       "0                       \n",
       "MKKYLALALIAPLLISCS          28\n",
       "MRYLATLLLSLAVLITAGCG        27\n",
       "MPLPDFRLIRLLPLAALVLTACS     23\n",
       "MKLRWFAFLIVLLAGCS           23\n",
       "MQKNAAHTYAISSLLVLSLTGCA     20\n",
       "                            ..\n",
       "MKRFVSVVALSGVVSLAGCV         1\n",
       "MKRFWAMVCALFLSVSLLLTSCA      1\n",
       "MKRGIYAVLLVGVLIFSVVASGCI     1\n",
       "MKRGLTVAVAGAAILVAGLSGCS      1\n",
       "MKTFKFFTALFATAILTACT         1\n",
       "Name: count, Length: 1175, dtype: int64"
      ]
     },
     "execution_count": 51,
     "metadata": {},
     "output_type": "execute_result"
    }
   ],
   "source": [
    "# Find all items with a specific SP\n",
    "q = \"L\"\n",
    "ds_with_q = [item for item in ds if q in item['sep']]\n",
    "pd.DataFrame([item['seq'][:len(item) - item['sep'][::-1].index(q) -1] for item in ds_with_q]).value_counts()"
   ]
  },
  {
   "cell_type": "code",
   "execution_count": 52,
   "metadata": {},
   "outputs": [
    {
     "data": {
      "text/plain": [
       "0       \n",
       "NEGATIVE    20\n",
       "Name: count, dtype: int64"
      ]
     },
     "execution_count": 52,
     "metadata": {},
     "output_type": "execute_result"
    }
   ],
   "source": [
    "# Which kingdoms shares the most probable \n",
    "q = \"MQKNAAHTYAISSLLVLSLTGCA\"\n",
    "pd.DataFrame(map(lambda x: x['header']['kingdom'], filter(lambda x: x['seq'][:len(q)] == q, ds))).value_counts()"
   ]
  },
  {
   "cell_type": "code",
   "execution_count": 53,
   "metadata": {},
   "outputs": [
    {
     "name": "stdout",
     "output_type": "stream",
     "text": [
      "Peptide distribution: 0\n",
      "S    2957\n",
      "L    2277\n",
      "T     592\n",
      "P      70\n",
      "Name: count, dtype: int64\n"
     ]
    }
   ],
   "source": [
    "ds_with_pep = list(filter(lambda x: x['header']['type'] != \"NO_SP\", ds))\n",
    "print(\"Peptide distribution:\", pd.DataFrame(map(lambda x:   \n",
    "                \"S\" if \"S\" in x['sep'] else \\\n",
    "                \"T\" if \"T\" in x['sep'] else \\\n",
    "                \"P\" if \"P\" in x['sep'] else \\\n",
    "                \"L\" if \"L\" in x['sep'] else \\\n",
    "                \"N/A\", ds_with_pep)).value_counts())"
   ]
  },
  {
   "cell_type": "code",
   "execution_count": 54,
   "metadata": {},
   "outputs": [
    {
     "name": "stdout",
     "output_type": "stream",
     "text": [
      "Type distribution: 0      \n",
      "NO_SP      23205\n",
      "SP          2957\n",
      "LIPO        2277\n",
      "TAT          559\n",
      "PILIN         70\n",
      "TATLIPO       33\n",
      "Name: count, dtype: int64\n"
     ]
    }
   ],
   "source": [
    "print(\"Type distribution:\", pd.DataFrame([x['header']['type'] for x in ds]).value_counts())"
   ]
  },
  {
   "cell_type": "code",
   "execution_count": 55,
   "metadata": {},
   "outputs": [
    {
     "name": "stdout",
     "output_type": "stream",
     "text": [
      "Kingdom distribution: 0       \n",
      "EUKARYA     23853\n",
      "NEGATIVE     3547\n",
      "POSITIVE     1324\n",
      "ARCHAEA       377\n",
      "Name: count, dtype: int64\n"
     ]
    }
   ],
   "source": [
    "print(\"Kingdom distribution:\", kingdoms.value_counts())"
   ]
  },
  {
   "cell_type": "code",
   "execution_count": 56,
   "metadata": {},
   "outputs": [
    {
     "data": {
      "image/png": "[encoded data removed]",
      "text/plain": [
       "<Figure size 640x480 with 1 Axes>"
      ]
     },
     "metadata": {},
     "output_type": "display_data"
    }
   ],
   "source": [
    "df = pd.DataFrame([x['header']['type'] for x in ds]).value_counts()#.plot.bar(xlabel=\"Protein type\", rot=0)\n",
    "df.index = [idx[0] for idx in df.index]\n",
    "df.index\n",
    "ax = df.plot.bar(xlabel=\"Protein type\", rot=0, color=\"tab:orange\")\n",
    "for container in ax.containers:\n",
    "    ax.bar_label(container)"
   ]
  },
  {
   "cell_type": "code",
   "execution_count": 57,
   "metadata": {},
   "outputs": [
    {
     "data": {
      "image/png": "[encoded data removed]",
      "text/plain": [
       "<Figure size 640x480 with 1 Axes>"
      ]
     },
     "metadata": {},
     "output_type": "display_data"
    }
   ],
   "source": [
    "ds_binary = ds.copy()\n",
    "for d in ds_binary:\n",
    "    if d['header']['type'] != 'NO_SP':\n",
    "        d['header']['type'] = 'SP'\n",
    "df = pd.DataFrame([x['header']['type'] for x in ds_binary]).value_counts()#.plot.bar(xlabel=\"Protein type\", rot=0)\n",
    "df.index = [idx[0] for idx in df.index]\n",
    "df.index\n",
    "ax = df.plot.bar(xlabel=\"Protein label\", rot=0, color=\"tab:orange\")\n",
    "for container in ax.containers:\n",
    "    ax.bar_label(container)"
   ]
  },
  {
   "cell_type": "code",
   "execution_count": 58,
   "metadata": {},
   "outputs": [
    {
     "data": {
      "image/png": "[encoded data removed]",
      "text/plain": [
       "<Figure size 640x480 with 1 Axes>"
      ]
     },
     "metadata": {},
     "output_type": "display_data"
    }
   ],
   "source": [
    "df = kingdoms.value_counts()\n",
    "df.index = [idx[0] for idx in df.index]\n",
    "df.index\n",
    "ax = df.plot.bar(xlabel=\"Protein kingdom\", rot=0)\n",
    "for container in ax.containers:\n",
    "    ax.bar_label(container)"
   ]
  },
  {
   "cell_type": "code",
   "execution_count": 59,
   "metadata": {},
   "outputs": [
    {
     "ename": "NameError",
     "evalue": "name 'torch' is not defined",
     "output_type": "error",
     "traceback": [
      "\u001b[1;31m---------------------------------------------------------------------------\u001b[0m",
      "\u001b[1;31mNameError\u001b[0m                                 Traceback (most recent call last)",
      "Cell \u001b[1;32mIn[59], line 1\u001b[0m\n\u001b[1;32m----> 1\u001b[0m ds1 \u001b[38;5;241m=\u001b[39m \u001b[43mtorch\u001b[49m\u001b[38;5;241m.\u001b[39mutils\u001b[38;5;241m.\u001b[39mdata\u001b[38;5;241m.\u001b[39mDataLoader(df[\u001b[38;5;124m'\u001b[39m\u001b[38;5;124mseq\u001b[39m\u001b[38;5;124m'\u001b[39m])\n",
      "\u001b[1;31mNameError\u001b[0m: name 'torch' is not defined"
     ]
    }
   ],
   "source": [
    "ds1 = torch.utils.data.DataLoader(df['seq'])"
   ]
  },
  {
   "cell_type": "code",
   "execution_count": null,
   "metadata": {},
   "outputs": [
    {
     "data": {
      "text/plain": [
       "['MAPTLFQKLFSKRTGLGAPGRDARDPDCGFSWPLPEFDPSQIRLIVYQDCERRGRNVLFDSSVKRRNEDI']"
      ]
     },
     "execution_count": 16,
     "metadata": {},
     "output_type": "execute_result"
    }
   ],
   "source": [
    "next(iter(ds1))"
   ]
  }
 ],
 "metadata": {
  "kernelspec": {
   "display_name": "Python 3",
   "language": "python",
   "name": "python3"
  },
  "language_info": {
   "codemirror_mode": {
    "name": "ipython",
    "version": 3
   },
   "file_extension": ".py",
   "mimetype": "text/x-python",
   "name": "python",
   "nbconvert_exporter": "python",
   "pygments_lexer": "ipython3",
   "version": "3.10.11"
  }
 },
 "nbformat": 4,
 "nbformat_minor": 2
}
