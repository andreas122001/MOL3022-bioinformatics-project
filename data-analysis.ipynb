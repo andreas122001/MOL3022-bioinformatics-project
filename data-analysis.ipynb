{
 "cells": [
  {
   "cell_type": "code",
   "execution_count": 1,
   "metadata": {},
   "outputs": [],
   "source": [
    "import torch, re\n",
    "import torch.utils.data as data_utils\n",
    "from tqdm import tqdm\n",
    "import matplotlib.pyplot as plt\n",
    "import numpy as np\n",
    "import pandas as pd"
   ]
  },
  {
   "cell_type": "code",
   "execution_count": 2,
   "metadata": {},
   "outputs": [],
   "source": [
    "def load_data():\n",
    "    ds = []\n",
    "    # Read from src\n",
    "    with open('data/train_set.fasta') as f:\n",
    "        lines = f.read().split(\">\")[1:]\n",
    "        ds = [0]*len(lines)\n",
    "        for i, line in enumerate(tqdm(lines)):\n",
    "            header, seq, sep = line.strip().split(\"\\n\")\n",
    "            # seq = \" join(seq)\n",
    "            # sep = re.sub(\"S|T|L|P\", \"0\", sep) # simplify to SP existance\n",
    "            # sep = re.sub(\"I|M|O\",   \"1\", sep) # simplify to SP non-existance\n",
    "            # sep = 1. if \"0\" in sep else 0.\n",
    "            ac, kingdom, type_, id_ = header.split(\"|\")\n",
    "            ds[i] = {\n",
    "                'header': {\n",
    "                    'uniprot_ac': ac,\n",
    "                    'kingdom': kingdom,\n",
    "                    'type': type_,\n",
    "                    'id': id_\n",
    "                },\n",
    "                'seq': seq,\n",
    "                'sep': sep\n",
    "            }\n",
    "    return ds"
   ]
  },
  {
   "cell_type": "code",
   "execution_count": 3,
   "metadata": {},
   "outputs": [
    {
     "name": "stderr",
     "output_type": "stream",
     "text": [
      "  0%|          | 0/20290 [00:00<?, ?it/s]"
     ]
    },
    {
     "name": "stderr",
     "output_type": "stream",
     "text": [
      "100%|██████████| 20290/20290 [00:00<00:00, 563644.50it/s]\n"
     ]
    }
   ],
   "source": [
    "ds = load_data()\n",
    "df = pd.DataFrame(ds)"
   ]
  },
  {
   "cell_type": "code",
   "execution_count": 4,
   "metadata": {},
   "outputs": [],
   "source": [
    "kingdoms = pd.DataFrame([i['kingdom'] for i in df.get('header')])\n",
    "sequences = df.get('seq')\n",
    "classes = df.get('sep')"
   ]
  },
  {
   "cell_type": "code",
   "execution_count": 25,
   "metadata": {},
   "outputs": [
    {
     "data": {
      "text/plain": [
       "0                              \n",
       "MKKYLALALIAPLLISCS                 28\n",
       "MRYLATLLLSLAVLITAGCG               27\n",
       "MKLRWFAFLIVLLAGCS                  23\n",
       "MPLPDFRLIRLLPLAALVLTACS            22\n",
       "MQKNAAHTYAISSLLVLSLTGCA            20\n",
       "                                   ..\n",
       "MKLLSKVMILALAASMLQACN               1\n",
       "MKLNLKASGVARQLTTLAKTVAALSVLTACA     1\n",
       "MKLNLRFPSYFLPVVAASAFLVSCA           1\n",
       "MKLNQFGAAIGLLATGALLSGCG             1\n",
       "MYRRLLLNLFCMVFLQACL                 1\n",
       "Name: count, Length: 902, dtype: int64"
      ]
     },
     "execution_count": 25,
     "metadata": {},
     "output_type": "execute_result"
    }
   ],
   "source": [
    "# Find all items with a specific SP\n",
    "q = \"L\"\n",
    "ds_with_q = [item for item in ds if q in item['sep']]\n",
    "pd.DataFrame([item['seq'][:len(item) - item['sep'][::-1].index(q) -1] for item in ds_with_q]).value_counts()"
   ]
  },
  {
   "cell_type": "code",
   "execution_count": 28,
   "metadata": {},
   "outputs": [
    {
     "data": {
      "text/plain": [
       "0       \n",
       "NEGATIVE    20\n",
       "Name: count, dtype: int64"
      ]
     },
     "execution_count": 28,
     "metadata": {},
     "output_type": "execute_result"
    }
   ],
   "source": [
    "# Which kingdoms shares the most probable \n",
    "q = \"MQKNAAHTYAISSLLVLSLTGCA\"\n",
    "pd.DataFrame(map(lambda x: x['header']['kingdom'], filter(lambda x: x['seq'][:len(q)] == q, ds))).value_counts()"
   ]
  },
  {
   "cell_type": "code",
   "execution_count": 21,
   "metadata": {},
   "outputs": [
    {
     "name": "stdout",
     "output_type": "stream",
     "text": [
      "Peptide distribution: 0\n",
      "S    2582\n",
      "L    1615\n",
      "T     398\n",
      "P      70\n",
      "Name: count, dtype: int64\n"
     ]
    }
   ],
   "source": [
    "ds_with_pep = list(filter(lambda x: x['header']['type'] != \"NO_SP\", ds))\n",
    "print(\"Peptide distribution:\", pd.DataFrame(map(lambda x:   \n",
    "                \"S\" if \"S\" in x['sep'] else \\\n",
    "                \"T\" if \"T\" in x['sep'] else \\\n",
    "                \"P\" if \"P\" in x['sep'] else \\\n",
    "                \"L\" if \"L\" in x['sep'] else \\\n",
    "                \"N/A\", ds_with_pep)).value_counts())"
   ]
  },
  {
   "cell_type": "code",
   "execution_count": 29,
   "metadata": {},
   "outputs": [
    {
     "name": "stdout",
     "output_type": "stream",
     "text": [
      "Type distribution: 0      \n",
      "NO_SP      15625\n",
      "SP          2582\n",
      "LIPO        1615\n",
      "TAT          365\n",
      "PILIN         70\n",
      "TATLIPO       33\n",
      "Name: count, dtype: int64\n"
     ]
    }
   ],
   "source": [
    "print(\"Type distribution:\", pd.DataFrame([x['header']['type'] for x in ds]).value_counts())"
   ]
  },
  {
   "cell_type": "code",
   "execution_count": 30,
   "metadata": {},
   "outputs": [
    {
     "name": "stdout",
     "output_type": "stream",
     "text": [
      "Kingdom distribution: 0       \n",
      "EUKARYA     16396\n",
      "NEGATIVE     2764\n",
      "POSITIVE      935\n",
      "ARCHAEA       195\n",
      "Name: count, dtype: int64\n"
     ]
    }
   ],
   "source": [
    "print(\"Kingdom distribution:\", kingdoms.value_counts())"
   ]
  },
  {
   "cell_type": "code",
   "execution_count": null,
   "metadata": {},
   "outputs": [],
   "source": []
  },
  {
   "cell_type": "code",
   "execution_count": 37,
   "metadata": {},
   "outputs": [],
   "source": [
    "ds1 = torch.utils.data.DataLoader(ds['seq'])"
   ]
  },
  {
   "cell_type": "code",
   "execution_count": 42,
   "metadata": {},
   "outputs": [
    {
     "data": {
      "text/plain": [
       "['M A P T L F Q K L F S K R T G L G A P G R D A R D P D C G F S W P L P E F D P S Q I R L I V Y Q D C E R R G R N V L F D S S V K R R N E D I']"
      ]
     },
     "execution_count": 42,
     "metadata": {},
     "output_type": "execute_result"
    }
   ],
   "source": [
    "next(iter(ds1))"
   ]
  }
 ],
 "metadata": {
  "kernelspec": {
   "display_name": "Python 3",
   "language": "python",
   "name": "python3"
  },
  "language_info": {
   "codemirror_mode": {
    "name": "ipython",
    "version": 3
   },
   "file_extension": ".py",
   "mimetype": "text/x-python",
   "name": "python",
   "nbconvert_exporter": "python",
   "pygments_lexer": "ipython3",
   "version": "3.10.11"
  }
 },
 "nbformat": 4,
 "nbformat_minor": 2
}
